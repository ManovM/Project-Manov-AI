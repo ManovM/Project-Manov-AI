{
  "cells": [
    {
      "cell_type": "markdown",
      "metadata": {
        "id": "Ah7dy1kFL2H9"
      },
      "source": [
        "# Оценка качества обучения нейронной сети в Keras\n",
        "\n",
        "На примере распознаванию рукописных цифр из **набора данных MNIST**.\n",
        "\n",
        "Чтобы запускать и редактировать код, сохраните копию этого ноутбука себе (File->Save a copy in Drive...). Свою копию вы сможете изменять и запускать."
      ]
    },
    {
      "cell_type": "code",
      "execution_count": 5,
      "metadata": {
        "id": "qrfd6FzSLrE2"
      },
      "outputs": [],
      "source": [
        "from tensorflow.keras.datasets import mnist\n",
        "# mnist - библиотека для рукописных цифр\n",
        "from tensorflow.keras.models import Sequential\n",
        "# Вид связи - прямое распространение (нет хитрых архитектур)\n",
        "from tensorflow.keras.layers import Dense, Dropout\n",
        "# dence - библиотека где каждый нейрон одного слоя соединен с предыдущим\n",
        "# dropout - замена необученным нейроном обученного\n",
        "from tensorflow.keras import utils\n",
        "# преобразование цифры в вектор {0;1}\n",
        "from tensorflow.keras.preprocessing import image\n",
        "from google.colab import files\n",
        "# работа с файлами и картинками\n",
        "import numpy as np\n",
        "# работа с массивами\n",
        "import matplotlib.pyplot as plt\n",
        "# библиотека для визуализации данных\n",
        "from PIL import Image\n",
        "# работа с пикселями\n",
        "%matplotlib inline\n",
        "from tensorflow.keras.optimizers import Adam, RMSprop\n",
        "# алгоритм управления градиентами спуска"
      ]
    },
    {
      "cell_type": "markdown",
      "metadata": {
        "id": "xiurjCBVMDTG"
      },
      "source": [
        "## Подготовка данных для обучения сети"
      ]
    },
    {
      "cell_type": "markdown",
      "metadata": {
        "id": "1yDF75Cx8VPz"
      },
      "source": [
        "**Загружаем набор данных с рукописными цифрами**"
      ]
    },
    {
      "cell_type": "code",
      "execution_count": 6,
      "metadata": {
        "colab": {
          "base_uri": "https://localhost:8080/"
        },
        "id": "E5L3LUIi8PDV",
        "outputId": "0e694903-df6a-4364-a2b9-e0ab72075a5d"
      },
      "outputs": [
        {
          "output_type": "stream",
          "name": "stdout",
          "text": [
            "Downloading data from https://storage.googleapis.com/tensorflow/tf-keras-datasets/mnist.npz\n",
            "11493376/11490434 [==============================] - 0s 0us/step\n",
            "11501568/11490434 [==============================] - 0s 0us/step\n"
          ]
        }
      ],
      "source": [
        "# В Keras встроены средства работы с популярными наборами данных\n",
        "# x_train_org - изображения из набора данных для обучения\n",
        "# y_train_org - правильные ответы (метки) к набору данных для обучения\n",
        "# x_test_org - изображения из набора данных для тестирования\n",
        "# y_test_org - правильные ответы (метки) к набору данных для тестирования\n",
        "(x_train_org, y_train_org), (x_test_org, y_test_org) = mnist.load_data()"
      ]
    },
    {
      "cell_type": "code",
      "execution_count": 7,
      "metadata": {
        "colab": {
          "base_uri": "https://localhost:8080/",
          "height": 265
        },
        "id": "ga0DtPJQVkEh",
        "outputId": "223f9718-10a4-4e41-c94e-afbe70f21b30"
      },
      "outputs": [
        {
          "output_type": "display_data",
          "data": {
            "image/png": "[encoded data removed]",
            "text/plain": [
              "<Figure size 432x288 with 1 Axes>"
            ]
          },
          "metadata": {
            "needs_background": "light"
          }
        }
      ],
      "source": [
        "n = 5\n",
        "# Достаем элемент n индекса для проверки обучающей выборки\n",
        "plt.imshow(Image.fromarray(x_test_org[n]).convert('RGBA'))\n",
        "plt.show()"
      ]
    },
    {
      "cell_type": "markdown",
      "metadata": {
        "id": "7uXTnIojJLbl"
      },
      "source": [
        "**Преобразование размерности данных в наборе**"
      ]
    },
    {
      "cell_type": "code",
      "execution_count": 8,
      "metadata": {
        "id": "GBAqLKjGJJ-V"
      },
      "outputs": [],
      "source": [
        "# Нейронные сети (кроме сверточных) не работают с 2d картинками, поэтому 28*28 превращаем в 784\n",
        "x_train = x_train_org.reshape(60000, 784)\n",
        "x_test = x_test_org.reshape(10000, 784)"
      ]
    },
    {
      "cell_type": "markdown",
      "metadata": {
        "id": "hDaHO5LgJYxU"
      },
      "source": [
        "**Нормализация данных**"
      ]
    },
    {
      "cell_type": "code",
      "execution_count": 9,
      "metadata": {
        "id": "rscaAuBNJdq9"
      },
      "outputs": [],
      "source": [
        "# Векторизованные операции\n",
        "# Применяются к каждому элементу массива отдельно\n",
        "x_train = x_train.astype('float32')\n",
        "x_train = x_train / 255 \n",
        "x_test = x_test.astype('float32')\n",
        "x_test = x_test / 255 "
      ]
    },
    {
      "cell_type": "markdown",
      "metadata": {
        "id": "KRcMlNzqJk1t"
      },
      "source": [
        "**Работа с правильными ответами**"
      ]
    },
    {
      "cell_type": "code",
      "execution_count": 10,
      "metadata": {
        "colab": {
          "base_uri": "https://localhost:8080/"
        },
        "id": "A5lKe_syJqPu",
        "outputId": "62bc5794-43c0-411f-bdca-d9dd4f13376e"
      },
      "outputs": [
        {
          "output_type": "stream",
          "name": "stdout",
          "text": [
            "1\n"
          ]
        }
      ],
      "source": [
        "print(y_test_org[n])"
      ]
    },
    {
      "cell_type": "markdown",
      "metadata": {
        "id": "zqJ9GA1kJxBF"
      },
      "source": [
        "**Преобразуем метки в формат one hot encoding**"
      ]
    },
    {
      "cell_type": "code",
      "execution_count": 11,
      "metadata": {
        "id": "zQnasUyyJ3cG"
      },
      "outputs": [],
      "source": [
        "# превращение вектора из 0 и 1 в вектор с 10 классами \n",
        "y_train = utils.to_categorical(y_train_org, 10)\n",
        "y_test = utils.to_categorical(y_test_org, 10)"
      ]
    },
    {
      "cell_type": "markdown",
      "metadata": {
        "id": "KfuqlyjHJ_ye"
      },
      "source": [
        "**Правильный ответ в формате one hot encoding**"
      ]
    },
    {
      "cell_type": "code",
      "execution_count": 12,
      "metadata": {
        "colab": {
          "base_uri": "https://localhost:8080/"
        },
        "id": "9zUfd1aeKH3e",
        "outputId": "5bb1bcde-1a90-4047-8cb7-9dd3664d8075"
      },
      "outputs": [
        {
          "output_type": "stream",
          "name": "stdout",
          "text": [
            "[0. 1. 0. 0. 0. 0. 0. 0. 0. 0.]\n"
          ]
        }
      ],
      "source": [
        "print(y_test[n])"
      ]
    },
    {
      "cell_type": "markdown",
      "metadata": {
        "id": "BmTr_lXTKNbN"
      },
      "source": [
        "## Создаем нейронную сеть"
      ]
    },
    {
      "cell_type": "markdown",
      "metadata": {
        "id": "fV_igNZuMNXe"
      },
      "source": [
        "**Создаем последовательную модель**"
      ]
    },
    {
      "cell_type": "code",
      "execution_count": 13,
      "metadata": {
        "id": "D-jPYYxIKQkt"
      },
      "outputs": [],
      "source": [
        "# модель прямого распространения\n",
        "model = Sequential()"
      ]
    },
    {
      "cell_type": "markdown",
      "metadata": {
        "id": "Q3QzIVtBMQRG"
      },
      "source": [
        "**Добавляем уровни сети**\n",
        "\n",
        "Архитектуру сети взяли по ссылке - https://en.wikipedia.org/wiki/MNIST_database\n"
      ]
    },
    {
      "cell_type": "code",
      "execution_count": 14,
      "metadata": {
        "id": "kYVSvpNIMSnG"
      },
      "outputs": [],
      "source": [
        "# Dence - вид связи нейронов между слоями\n",
        "# Входной полносвязный слой, 800 нейронов, 784 входа в каждый нейрон\n",
        "# relu - полулинейная функция = max(0, x) = ln(1+e^x)\n",
        "model.add(Dense(800, input_dim=784, activation=\"relu\"))\n",
        "# Выходной полносвязный слой, 10 нейронов (по количеству рукописных цифр)\n",
        "# активационная функция softmax сделает так что на выходе сумма будет равна 1 \n",
        "model.add(Dense(10, activation=\"softmax\"))"
      ]
    },
    {
      "cell_type": "markdown",
      "metadata": {
        "id": "G__m76T-KWhd"
      },
      "source": [
        "**Компилируем сеть**"
      ]
    },
    {
      "cell_type": "code",
      "execution_count": 15,
      "metadata": {
        "colab": {
          "base_uri": "https://localhost:8080/"
        },
        "id": "PTcbSxchKZjd",
        "outputId": "13b520ee-15ed-434a-a2f6-f9a66e00592c"
      },
      "outputs": [
        {
          "output_type": "stream",
          "name": "stdout",
          "text": [
            "Model: \"sequential\"\n",
            "_________________________________________________________________\n",
            " Layer (type)                Output Shape              Param #   \n",
            "=================================================================\n",
            " dense (Dense)               (None, 800)               628000    \n",
            "                                                                 \n",
            " dense_1 (Dense)             (None, 10)                8010      \n",
            "                                                                 \n",
            "=================================================================\n",
            "Total params: 636,010\n",
            "Trainable params: 636,010\n",
            "Non-trainable params: 0\n",
            "_________________________________________________________________\n",
            "None\n"
          ]
        }
      ],
      "source": [
        "model.compile(loss=\"categorical_crossentropy\", optimizer=\"adam\", metrics=[\"accuracy\"])\n",
        "# выводит информацию о модуле \n",
        "print(model.summary())"
      ]
    },
    {
      "cell_type": "markdown",
      "metadata": {
        "id": "lspCHiaCKl72"
      },
      "source": [
        "## Обучаем нейронную сеть"
      ]
    },
    {
      "cell_type": "code",
      "execution_count": 17,
      "metadata": {
        "colab": {
          "base_uri": "https://localhost:8080/"
        },
        "id": "H6EIXu1dKoju",
        "outputId": "9432c54d-9b5b-49eb-fe8a-caecf0b96272"
      },
      "outputs": [
        {
          "output_type": "stream",
          "name": "stdout",
          "text": [
            "Epoch 1/10\n",
            "300/300 [==============================] - 1s 4ms/step - loss: 0.0062 - accuracy: 0.9989\n",
            "Epoch 2/10\n",
            "300/300 [==============================] - 1s 4ms/step - loss: 0.0049 - accuracy: 0.9994\n",
            "Epoch 3/10\n",
            "300/300 [==============================] - 1s 4ms/step - loss: 0.0046 - accuracy: 0.9992\n",
            "Epoch 4/10\n",
            "300/300 [==============================] - 1s 4ms/step - loss: 0.0062 - accuracy: 0.9984\n",
            "Epoch 5/10\n",
            "300/300 [==============================] - 1s 4ms/step - loss: 0.0076 - accuracy: 0.9980\n",
            "Epoch 6/10\n",
            "300/300 [==============================] - 1s 4ms/step - loss: 0.0045 - accuracy: 0.9990\n",
            "Epoch 7/10\n",
            "300/300 [==============================] - 1s 4ms/step - loss: 0.0042 - accuracy: 0.9990\n",
            "Epoch 8/10\n",
            "300/300 [==============================] - 1s 4ms/step - loss: 0.0017 - accuracy: 0.9998\n",
            "Epoch 9/10\n",
            "300/300 [==============================] - 1s 4ms/step - loss: 0.0014 - accuracy: 0.9998\n",
            "Epoch 10/10\n",
            "300/300 [==============================] - 1s 4ms/step - loss: 0.0036 - accuracy: 0.9990\n"
          ]
        }
      ],
      "source": [
        "# batch_size - объем данных, который будут обрабатывать нейроны за 1 эпоху.\n",
        "# epochs - количество повторов обучения\n",
        "# verbose=1 - выводит данные\n",
        "\n",
        "history = model.fit(x_train, \n",
        "                    y_train, \n",
        "                    batch_size=200, \n",
        "                    epochs=10,\n",
        "                    verbose=1)\n"
      ]
    },
    {
      "cell_type": "markdown",
      "metadata": {
        "id": "DzcAzNp5kz6q"
      },
      "source": [
        "## Проверяем качество обучения на тестовом наборе данных"
      ]
    },
    {
      "cell_type": "code",
      "execution_count": 19,
      "metadata": {
        "colab": {
          "base_uri": "https://localhost:8080/"
        },
        "id": "ZOymJgu_k7Fy",
        "outputId": "bc8d45f0-c6e3-4a3d-8db7-03782a8156ac"
      },
      "outputs": [
        {
          "output_type": "stream",
          "name": "stdout",
          "text": [
            "313/313 [==============================] - 1s 3ms/step - loss: 7.9020 - accuracy: 0.5872\n"
          ]
        }
      ],
      "source": [
        "# функция evaluate проверяет точность распознования на проверочной выборке\n",
        "scores = model.evaluate(x_test, y_test, verbose=1)"
      ]
    },
    {
      "cell_type": "code",
      "execution_count": 20,
      "metadata": {
        "colab": {
          "base_uri": "https://localhost:8080/"
        },
        "id": "iRwMRJn9l1V7",
        "outputId": "d3a425ed-3af7-42e3-a9a3-ba3a7d21aac6"
      },
      "outputs": [
        {
          "output_type": "execute_result",
          "data": {
            "text/plain": [
              "[7.902012348175049, 0.5871999859809875]"
            ]
          },
          "metadata": {},
          "execution_count": 20
        }
      ],
      "source": [
        "scores"
      ]
    },
    {
      "cell_type": "code",
      "execution_count": 21,
      "metadata": {
        "colab": {
          "base_uri": "https://localhost:8080/"
        },
        "id": "eiCP0or9l4Cp",
        "outputId": "ab982859-f717-4510-896b-bd2dd2166cb3"
      },
      "outputs": [
        {
          "output_type": "stream",
          "name": "stdout",
          "text": [
            "Доля верных ответов на тестовых данных, в процентах: 58.72%\n"
          ]
        }
      ],
      "source": [
        "print(\"Доля верных ответов на тестовых данных, в процентах: \", round(scores[1] * 100, 4), \"%\", sep=\"\")"
      ]
    },
    {
      "cell_type": "markdown",
      "metadata": {
        "id": "8CsXpvtBvpIJ"
      },
      "source": [
        "#Проверочная выборка"
      ]
    },
    {
      "cell_type": "code",
      "execution_count": 22,
      "metadata": {
        "colab": {
          "base_uri": "https://localhost:8080/"
        },
        "id": "Plh0I1kPvso9",
        "outputId": "8a7c6d5a-2c2b-4d99-9d3d-de94e5cfdf92"
      },
      "outputs": [
        {
          "output_type": "stream",
          "name": "stdout",
          "text": [
            "Epoch 1/10\n",
            "240/240 [==============================] - 2s 5ms/step - loss: 0.4898 - accuracy: 0.8671 - val_loss: 0.2556 - val_accuracy: 0.9277\n",
            "Epoch 2/10\n",
            "240/240 [==============================] - 1s 4ms/step - loss: 0.2318 - accuracy: 0.9346 - val_loss: 0.1908 - val_accuracy: 0.9479\n",
            "Epoch 3/10\n",
            "240/240 [==============================] - 1s 4ms/step - loss: 0.1771 - accuracy: 0.9497 - val_loss: 0.1577 - val_accuracy: 0.9556\n",
            "Epoch 4/10\n",
            "240/240 [==============================] - 1s 4ms/step - loss: 0.1422 - accuracy: 0.9592 - val_loss: 0.1410 - val_accuracy: 0.9607\n",
            "Epoch 5/10\n",
            "240/240 [==============================] - 1s 4ms/step - loss: 0.1192 - accuracy: 0.9661 - val_loss: 0.1272 - val_accuracy: 0.9653\n",
            "Epoch 6/10\n",
            "240/240 [==============================] - 1s 4ms/step - loss: 0.1007 - accuracy: 0.9711 - val_loss: 0.1185 - val_accuracy: 0.9677\n",
            "Epoch 7/10\n",
            "240/240 [==============================] - 1s 4ms/step - loss: 0.0869 - accuracy: 0.9758 - val_loss: 0.1117 - val_accuracy: 0.9680\n",
            "Epoch 8/10\n",
            "240/240 [==============================] - 1s 4ms/step - loss: 0.0761 - accuracy: 0.9785 - val_loss: 0.1045 - val_accuracy: 0.9700\n",
            "Epoch 9/10\n",
            "240/240 [==============================] - 1s 4ms/step - loss: 0.0666 - accuracy: 0.9814 - val_loss: 0.0990 - val_accuracy: 0.9725\n",
            "Epoch 10/10\n",
            "240/240 [==============================] - 1s 5ms/step - loss: 0.0594 - accuracy: 0.9840 - val_loss: 0.0955 - val_accuracy: 0.9714\n"
          ]
        }
      ],
      "source": [
        "model = Sequential()\n",
        "\n",
        "# Входной полносвязный слой, 800 нейронов, 784 входа в каждый нейрон\n",
        "model.add(Dense(100, input_dim=784, activation=\"relu\"))\n",
        "# Выходной полносвязный слой, 10 нейронов (по количеству рукописных цифр)\n",
        "model.add(Dense(10, activation=\"softmax\"))\n",
        "\n",
        "model.compile(loss=\"categorical_crossentropy\", optimizer=\"adam\", metrics=[\"accuracy\"])\n",
        "# validation_split - берет процент данных из обучающей выборки и добавляет ее в проверочную\n",
        "# функция fit - способ указать проверучную выборку\n",
        "history = model.fit(x_train, \n",
        "                    y_train, \n",
        "                    batch_size=200, \n",
        "                    epochs=10,\n",
        "                    validation_split=0.2,\n",
        "                    verbose=1)"
      ]
    },
    {
      "cell_type": "code",
      "execution_count": 23,
      "metadata": {
        "colab": {
          "base_uri": "https://localhost:8080/"
        },
        "id": "CgNsTmBbvuck",
        "outputId": "a2e570b1-02da-4919-adec-aa4f9780dde0"
      },
      "outputs": [
        {
          "output_type": "stream",
          "name": "stdout",
          "text": [
            "Epoch 1/10\n",
            "200/200 [==============================] - 2s 7ms/step - loss: 0.3339 - accuracy: 0.9050 - val_loss: 0.1845 - val_accuracy: 0.9485\n",
            "Epoch 2/10\n",
            "200/200 [==============================] - 1s 6ms/step - loss: 0.1360 - accuracy: 0.9603 - val_loss: 0.1291 - val_accuracy: 0.9625\n",
            "Epoch 3/10\n",
            "200/200 [==============================] - 1s 6ms/step - loss: 0.0882 - accuracy: 0.9746 - val_loss: 0.1094 - val_accuracy: 0.9669\n",
            "Epoch 4/10\n",
            "200/200 [==============================] - 1s 6ms/step - loss: 0.0624 - accuracy: 0.9820 - val_loss: 0.1002 - val_accuracy: 0.9702\n",
            "Epoch 5/10\n",
            "200/200 [==============================] - 1s 6ms/step - loss: 0.0443 - accuracy: 0.9875 - val_loss: 0.0956 - val_accuracy: 0.9718\n",
            "Epoch 6/10\n",
            "200/200 [==============================] - 1s 6ms/step - loss: 0.0323 - accuracy: 0.9922 - val_loss: 0.0910 - val_accuracy: 0.9729\n",
            "Epoch 7/10\n",
            "200/200 [==============================] - 1s 6ms/step - loss: 0.0254 - accuracy: 0.9940 - val_loss: 0.0949 - val_accuracy: 0.9706\n",
            "Epoch 8/10\n",
            "200/200 [==============================] - 1s 6ms/step - loss: 0.0184 - accuracy: 0.9961 - val_loss: 0.0892 - val_accuracy: 0.9745\n",
            "Epoch 9/10\n",
            "200/200 [==============================] - 1s 6ms/step - loss: 0.0130 - accuracy: 0.9980 - val_loss: 0.0837 - val_accuracy: 0.9760\n",
            "Epoch 10/10\n",
            "200/200 [==============================] - 1s 6ms/step - loss: 0.0091 - accuracy: 0.9988 - val_loss: 0.0856 - val_accuracy: 0.9761\n"
          ]
        }
      ],
      "source": [
        "model = Sequential()\n",
        "\n",
        "# Входной полносвязный слой, 800 нейронов, 784 входа в каждый нейрон\n",
        "model.add(Dense(800, input_dim=784, activation=\"relu\"))\n",
        "# Выходной полносвязный слой, 10 нейронов (по количеству рукописных цифр)\n",
        "model.add(Dense(10, activation=\"softmax\"))\n",
        "\n",
        "model.compile(loss=\"categorical_crossentropy\", optimizer=\"adam\", metrics=[\"accuracy\"])\n",
        "\n",
        "nVal = 40000\n",
        "\n",
        "# validation_data=(x_train[nVal:], y_train[nVal:]) - на данном x или y делаем validation\n",
        "history = model.fit(x_train[:nVal], \n",
        "                    y_train[:nVal], \n",
        "                    batch_size=200, \n",
        "                    epochs=10,\n",
        "                    validation_data=(x_train[nVal:], y_train[nVal:]),\n",
        "                    verbose=1)"
      ]
    },
    {
      "cell_type": "markdown",
      "metadata": {
        "id": "wYhse8xmmdS5"
      },
      "source": [
        "## Визуализация качества обучения\n"
      ]
    },
    {
      "cell_type": "markdown",
      "metadata": {
        "id": "qcW4fHR3m7EN"
      },
      "source": [
        "Состав словаря History"
      ]
    },
    {
      "cell_type": "code",
      "execution_count": 24,
      "metadata": {
        "colab": {
          "base_uri": "https://localhost:8080/"
        },
        "id": "V3jp7JG5m9z-",
        "outputId": "13abbb5b-329f-4a25-87de-741d9de257cb"
      },
      "outputs": [
        {
          "output_type": "stream",
          "name": "stdout",
          "text": [
            "dict_keys(['loss', 'accuracy', 'val_loss', 'val_accuracy'])\n"
          ]
        }
      ],
      "source": [
        "print(history.history.keys())"
      ]
    },
    {
      "cell_type": "markdown",
      "metadata": {
        "id": "sKzHMBi6507f"
      },
      "source": [
        "Печатаем значения ошибки на обучающем наборе данных"
      ]
    },
    {
      "cell_type": "code",
      "execution_count": 25,
      "metadata": {
        "colab": {
          "base_uri": "https://localhost:8080/"
        },
        "id": "5LIOJULboAcG",
        "outputId": "8e053e53-d93c-41f7-a610-db7810a4540b"
      },
      "outputs": [
        {
          "output_type": "execute_result",
          "data": {
            "text/plain": [
              "[0.33386173844337463,\n",
              " 0.13603459298610687,\n",
              " 0.08816608041524887,\n",
              " 0.062443286180496216,\n",
              " 0.04425787180662155,\n",
              " 0.032279111444950104,\n",
              " 0.025378422811627388,\n",
              " 0.018409468233585358,\n",
              " 0.012963734567165375,\n",
              " 0.009093585424125195]"
            ]
          },
          "metadata": {},
          "execution_count": 25
        }
      ],
      "source": [
        "history.history['loss']"
      ]
    },
    {
      "cell_type": "markdown",
      "metadata": {
        "id": "LzcHkPZAoZMD"
      },
      "source": [
        "Печатаем долю неверных ответов на проверочном наборе данных"
      ]
    },
    {
      "cell_type": "code",
      "execution_count": 26,
      "metadata": {
        "colab": {
          "base_uri": "https://localhost:8080/",
          "height": 283
        },
        "id": "-UOcvkr62Z6p",
        "outputId": "b299374b-3086-4dcb-b93a-4c1f39514ce0"
      },
      "outputs": [
        {
          "output_type": "display_data",
          "data": {
            "image/png": "[encoded data removed]",
            "text/plain": [
              "<Figure size 432x288 with 1 Axes>"
            ]
          },
          "metadata": {
            "needs_background": "light"
          }
        }
      ],
      "source": [
        "plt.plot(history.history['loss'], \n",
        "         label='Ошибка на обучающем наборе')\n",
        "plt.plot(history.history['val_loss'], \n",
        "         label='Ошибка на проверочном наборе')\n",
        "plt.xlabel('Эпоха обучения')\n",
        "plt.ylabel('Ошибка')\n",
        "plt.legend()\n",
        "plt.show()"
      ]
    },
    {
      "cell_type": "markdown",
      "metadata": {
        "id": "ERps5ER1cgpf"
      },
      "source": [
        "#Переобучение\n",
        "**Без Dropout**"
      ]
    },
    {
      "cell_type": "code",
      "execution_count": 27,
      "metadata": {
        "colab": {
          "base_uri": "https://localhost:8080/",
          "height": 661
        },
        "id": "wRUJID5zclEJ",
        "outputId": "ab579e83-5a8d-443a-b5de-9eedb7f0235d"
      },
      "outputs": [
        {
          "output_type": "stream",
          "name": "stderr",
          "text": [
            "/usr/local/lib/python3.7/dist-packages/keras/optimizer_v2/adam.py:105: UserWarning: The `lr` argument is deprecated, use `learning_rate` instead.\n",
            "  super(Adam, self).__init__(name, **kwargs)\n"
          ]
        },
        {
          "output_type": "stream",
          "name": "stdout",
          "text": [
            "Epoch 1/10\n",
            "1/1 [==============================] - 2s 2s/step - loss: 2.4205 - accuracy: 0.0400 - val_loss: 34.6642 - val_accuracy: 0.4016\n",
            "Epoch 2/10\n",
            "1/1 [==============================] - 1s 911ms/step - loss: 18.3483 - accuracy: 0.5400 - val_loss: 88.2606 - val_accuracy: 0.1814\n",
            "Epoch 3/10\n",
            "1/1 [==============================] - 1s 1s/step - loss: 81.4347 - accuracy: 0.2400 - val_loss: 59.5205 - val_accuracy: 0.1864\n",
            "Epoch 4/10\n",
            "1/1 [==============================] - 1s 1s/step - loss: 52.6037 - accuracy: 0.2300 - val_loss: 22.1898 - val_accuracy: 0.3380\n",
            "Epoch 5/10\n",
            "1/1 [==============================] - 1s 912ms/step - loss: 13.7914 - accuracy: 0.5100 - val_loss: 12.8344 - val_accuracy: 0.4148\n",
            "Epoch 6/10\n",
            "1/1 [==============================] - 1s 1s/step - loss: 7.8796 - accuracy: 0.6000 - val_loss: 10.0746 - val_accuracy: 0.5080\n",
            "Epoch 7/10\n",
            "1/1 [==============================] - 1s 926ms/step - loss: 4.5359 - accuracy: 0.6800 - val_loss: 7.6802 - val_accuracy: 0.5808\n",
            "Epoch 8/10\n",
            "1/1 [==============================] - 1s 1s/step - loss: 2.3224 - accuracy: 0.7900 - val_loss: 5.9440 - val_accuracy: 0.6035\n",
            "Epoch 9/10\n",
            "1/1 [==============================] - 3s 3s/step - loss: 1.2637 - accuracy: 0.8300 - val_loss: 4.4745 - val_accuracy: 0.6383\n",
            "Epoch 10/10\n",
            "1/1 [==============================] - 3s 3s/step - loss: 0.3252 - accuracy: 0.9400 - val_loss: 4.3513 - val_accuracy: 0.6326\n"
          ]
        },
        {
          "output_type": "display_data",
          "data": {
            "image/png": "[encoded data removed]",
            "text/plain": [
              "<Figure size 432x288 with 1 Axes>"
            ]
          },
          "metadata": {
            "needs_background": "light"
          }
        }
      ],
      "source": [
        "model = Sequential()\n",
        "\n",
        "# Входной полносвязный слой, 800 нейронов, 784 входа в каждый нейрон\n",
        "model.add(Dense(400, input_dim=784, activation=\"relu\"))\n",
        "# Выходной полносвязный слой, 10 нейронов (по количеству рукописных цифр)\n",
        "model.add(Dense(10, activation=\"softmax\"))\n",
        "\n",
        "model.compile(loss=\"categorical_crossentropy\", optimizer=Adam(lr=1e-1), metrics=[\"accuracy\"])\n",
        "\n",
        "nVal = 100\n",
        "\n",
        "def show_history(model, x_train, y_train):\n",
        "  history = model.fit(x_train[:nVal], \n",
        "                      y_train[:nVal], \n",
        "                      batch_size=200, \n",
        "                      epochs=10,\n",
        "                      validation_data=(x_train[nVal:], y_train[nVal:]),\n",
        "                      verbose=1)\n",
        "show_history(model, x_train, y_train)\n",
        "def printing(history):\n",
        "  plt.plot(history.history['accuracy'], \n",
        "            label='Доля верных ответов на обучающем наборе')\n",
        "  plt.plot(history.history['val_accuracy'], \n",
        "          label='Доля верных ответов на проверочном наборе')\n",
        "  plt.xlabel('Эпоха обучения')\n",
        "  plt.ylabel('Доля верных ответов')\n",
        "  plt.legend()\n",
        "  plt.show()\n",
        "printing(history)"
      ]
    },
    {
      "cell_type": "markdown",
      "metadata": {
        "id": "4gZyG8hD3ZWM"
      },
      "source": [
        "**Dropout 30%**"
      ]
    },
    {
      "cell_type": "code",
      "execution_count": 28,
      "metadata": {
        "colab": {
          "base_uri": "https://localhost:8080/",
          "height": 661
        },
        "id": "1cL1-VKkdmuq",
        "outputId": "515e09e1-59d0-4b36-9290-90e9a917029f"
      },
      "outputs": [
        {
          "output_type": "stream",
          "name": "stderr",
          "text": [
            "/usr/local/lib/python3.7/dist-packages/keras/optimizer_v2/adam.py:105: UserWarning: The `lr` argument is deprecated, use `learning_rate` instead.\n",
            "  super(Adam, self).__init__(name, **kwargs)\n"
          ]
        },
        {
          "output_type": "stream",
          "name": "stdout",
          "text": [
            "Epoch 1/10\n",
            "1/1 [==============================] - 3s 3s/step - loss: 2.3081 - accuracy: 0.0800 - val_loss: 59.5153 - val_accuracy: 0.1150\n",
            "Epoch 2/10\n",
            "1/1 [==============================] - 1s 1s/step - loss: 42.7138 - accuracy: 0.1800 - val_loss: 56.8974 - val_accuracy: 0.2864\n",
            "Epoch 3/10\n",
            "1/1 [==============================] - 1s 914ms/step - loss: 58.0866 - accuracy: 0.4300 - val_loss: 57.8904 - val_accuracy: 0.2945\n",
            "Epoch 4/10\n",
            "1/1 [==============================] - 1s 898ms/step - loss: 63.9279 - accuracy: 0.3800 - val_loss: 32.2666 - val_accuracy: 0.3693\n",
            "Epoch 5/10\n",
            "1/1 [==============================] - 1s 906ms/step - loss: 36.1535 - accuracy: 0.5000 - val_loss: 20.0298 - val_accuracy: 0.3875\n",
            "Epoch 6/10\n",
            "1/1 [==============================] - 1s 1s/step - loss: 15.9496 - accuracy: 0.4900 - val_loss: 9.8090 - val_accuracy: 0.4961\n",
            "Epoch 7/10\n",
            "1/1 [==============================] - 1s 916ms/step - loss: 2.3381 - accuracy: 0.7500 - val_loss: 11.8774 - val_accuracy: 0.4797\n",
            "Epoch 8/10\n",
            "1/1 [==============================] - 1s 1s/step - loss: 3.2950 - accuracy: 0.6900 - val_loss: 8.3391 - val_accuracy: 0.5488\n",
            "Epoch 9/10\n",
            "1/1 [==============================] - 1s 899ms/step - loss: 2.1483 - accuracy: 0.8200 - val_loss: 6.2847 - val_accuracy: 0.5965\n",
            "Epoch 10/10\n",
            "1/1 [==============================] - 1s 1s/step - loss: 1.1384 - accuracy: 0.8700 - val_loss: 5.1384 - val_accuracy: 0.6268\n"
          ]
        },
        {
          "output_type": "display_data",
          "data": {
            "image/png": "[encoded data removed]",
            "text/plain": [
              "<Figure size 432x288 with 1 Axes>"
            ]
          },
          "metadata": {
            "needs_background": "light"
          }
        }
      ],
      "source": [
        "model = Sequential()\n",
        "\n",
        "# Входной полносвязный слой, 800 нейронов, 784 входа в каждый нейрон\n",
        "model.add(Dense(400, input_dim=784, activation=\"relu\"))\n",
        "model.add(Dropout(0.3))\n",
        "# Выходной полносвязный слой, 10 нейронов (по количеству рукописных цифр)\n",
        "model.add(Dense(10, activation=\"softmax\"))\n",
        "\n",
        "model.compile(loss=\"categorical_crossentropy\", optimizer=Adam(lr=1e-1), metrics=[\"accuracy\"])\n",
        "\n",
        "nVal = 100\n",
        "\n",
        "show_history(model, x_train, y_train)\n",
        "printing(history)"
      ]
    },
    {
      "cell_type": "markdown",
      "metadata": {
        "id": "mzP1Cl1S3d1D"
      },
      "source": [
        "**Dropout 80%**"
      ]
    },
    {
      "cell_type": "code",
      "execution_count": 29,
      "metadata": {
        "colab": {
          "base_uri": "https://localhost:8080/",
          "height": 661
        },
        "id": "4-8FRn0b2l9a",
        "outputId": "5285582e-e315-4cf6-b7a6-f18c9a0a0525"
      },
      "outputs": [
        {
          "output_type": "stream",
          "name": "stderr",
          "text": [
            "/usr/local/lib/python3.7/dist-packages/keras/optimizer_v2/adam.py:105: UserWarning: The `lr` argument is deprecated, use `learning_rate` instead.\n",
            "  super(Adam, self).__init__(name, **kwargs)\n"
          ]
        },
        {
          "output_type": "stream",
          "name": "stdout",
          "text": [
            "Epoch 1/10\n",
            "1/1 [==============================] - 4s 4s/step - loss: 2.8488 - accuracy: 0.0300 - val_loss: 23.8788 - val_accuracy: 0.2865\n",
            "Epoch 2/10\n",
            "1/1 [==============================] - 1s 900ms/step - loss: 24.2043 - accuracy: 0.3400 - val_loss: 19.6062 - val_accuracy: 0.3519\n",
            "Epoch 3/10\n",
            "1/1 [==============================] - 1s 897ms/step - loss: 31.6061 - accuracy: 0.3300 - val_loss: 10.7746 - val_accuracy: 0.4752\n",
            "Epoch 4/10\n",
            "1/1 [==============================] - 1s 913ms/step - loss: 19.1624 - accuracy: 0.4300 - val_loss: 10.8268 - val_accuracy: 0.4847\n",
            "Epoch 5/10\n",
            "1/1 [==============================] - 1s 1s/step - loss: 15.4029 - accuracy: 0.4400 - val_loss: 11.5367 - val_accuracy: 0.5242\n",
            "Epoch 6/10\n",
            "1/1 [==============================] - 1s 1s/step - loss: 10.7977 - accuracy: 0.5800 - val_loss: 8.3019 - val_accuracy: 0.5984\n",
            "Epoch 7/10\n",
            "1/1 [==============================] - 1s 1s/step - loss: 7.3725 - accuracy: 0.6300 - val_loss: 6.2080 - val_accuracy: 0.6477\n",
            "Epoch 8/10\n",
            "1/1 [==============================] - 1s 1s/step - loss: 5.6407 - accuracy: 0.6000 - val_loss: 5.3728 - val_accuracy: 0.6532\n",
            "Epoch 9/10\n",
            "1/1 [==============================] - 1s 1s/step - loss: 4.4247 - accuracy: 0.6600 - val_loss: 4.8801 - val_accuracy: 0.6435\n",
            "Epoch 10/10\n",
            "1/1 [==============================] - 1s 922ms/step - loss: 4.5674 - accuracy: 0.6400 - val_loss: 4.6443 - val_accuracy: 0.6396\n"
          ]
        },
        {
          "output_type": "display_data",
          "data": {
            "image/png": "[encoded data removed]",
            "text/plain": [
              "<Figure size 432x288 with 1 Axes>"
            ]
          },
          "metadata": {
            "needs_background": "light"
          }
        }
      ],
      "source": [
        "from tensorflow.python.keras.metrics import accuracy\n",
        "model = Sequential()\n",
        "\n",
        "# Входной полносвязный слой, 800 нейронов, 784 входа в каждый нейрон\n",
        "model.add(Dense(400, input_dim=784, activation=\"relu\"))\n",
        "model.add(Dropout(0.8))\n",
        "# Выходной полносвязный слой, 10 нейронов (по количеству рукописных цифр)\n",
        "model.add(Dense(10, activation=\"softmax\"))\n",
        "\n",
        "model.compile(loss=\"categorical_crossentropy\", optimizer=Adam(lr=1e-1), metrics=[\"accuracy\"])\n",
        "\n",
        "nVal = 100\n",
        "\n",
        "show_history(model, x_train, y_train)\n",
        "printing(history)"
      ]
    },
    {
      "cell_type": "markdown",
      "metadata": {
        "id": "4BICqzKS3f7E"
      },
      "source": [
        "**Dropout 10%**"
      ]
    },
    {
      "cell_type": "code",
      "execution_count": 31,
      "metadata": {
        "colab": {
          "base_uri": "https://localhost:8080/",
          "height": 661
        },
        "id": "ljkSN6483GEA",
        "outputId": "c33b0278-07ca-4d70-ab7a-4d2439103939"
      },
      "outputs": [
        {
          "output_type": "stream",
          "name": "stderr",
          "text": [
            "/usr/local/lib/python3.7/dist-packages/keras/optimizer_v2/adam.py:105: UserWarning: The `lr` argument is deprecated, use `learning_rate` instead.\n",
            "  super(Adam, self).__init__(name, **kwargs)\n"
          ]
        },
        {
          "output_type": "stream",
          "name": "stdout",
          "text": [
            "Epoch 1/10\n",
            "1/1 [==============================] - 2s 2s/step - loss: 2.3711 - accuracy: 0.0600 - val_loss: 58.2578 - val_accuracy: 0.2088\n",
            "Epoch 2/10\n",
            "1/1 [==============================] - 1s 935ms/step - loss: 40.5981 - accuracy: 0.2600 - val_loss: 47.9536 - val_accuracy: 0.3319\n",
            "Epoch 3/10\n",
            "1/1 [==============================] - 1s 940ms/step - loss: 47.8590 - accuracy: 0.4400 - val_loss: 66.4406 - val_accuracy: 0.2166\n",
            "Epoch 4/10\n",
            "1/1 [==============================] - 1s 935ms/step - loss: 63.6150 - accuracy: 0.2800 - val_loss: 33.0555 - val_accuracy: 0.3263\n",
            "Epoch 5/10\n",
            "1/1 [==============================] - 1s 1s/step - loss: 30.6282 - accuracy: 0.4500 - val_loss: 15.6223 - val_accuracy: 0.3479\n",
            "Epoch 6/10\n",
            "1/1 [==============================] - 1s 1s/step - loss: 9.4297 - accuracy: 0.5400 - val_loss: 8.4050 - val_accuracy: 0.4831\n",
            "Epoch 7/10\n",
            "1/1 [==============================] - 1s 1s/step - loss: 2.2316 - accuracy: 0.7600 - val_loss: 8.2509 - val_accuracy: 0.5221\n",
            "Epoch 8/10\n",
            "1/1 [==============================] - 1s 939ms/step - loss: 1.9639 - accuracy: 0.8000 - val_loss: 8.8452 - val_accuracy: 0.5228\n",
            "Epoch 9/10\n",
            "1/1 [==============================] - 1s 1s/step - loss: 1.4933 - accuracy: 0.9000 - val_loss: 9.5044 - val_accuracy: 0.5353\n",
            "Epoch 10/10\n",
            "1/1 [==============================] - 1s 1s/step - loss: 0.9824 - accuracy: 0.8800 - val_loss: 8.9111 - val_accuracy: 0.5649\n"
          ]
        },
        {
          "output_type": "display_data",
          "data": {
            "image/png": "[encoded data removed]",
            "text/plain": [
              "<Figure size 432x288 with 1 Axes>"
            ]
          },
          "metadata": {
            "needs_background": "light"
          }
        }
      ],
      "source": [
        "model = Sequential()\n",
        "\n",
        "# Входной полносвязный слой, 800 нейронов, 784 входа в каждый нейрон\n",
        "model.add(Dense(400, input_dim=784, activation=\"relu\"))\n",
        "model.add(Dropout(0.1))\n",
        "# Выходной полносвязный слой, 10 нейронов (по количеству рукописных цифр)\n",
        "model.add(Dense(10, activation=\"softmax\"))\n",
        "\n",
        "model.compile(loss=\"categorical_crossentropy\", optimizer=Adam(lr=1e-1), metrics=[\"accuracy\"])\n",
        "\n",
        "nVal = 100\n",
        "\n",
        "show_history(model, x_train, y_train)\n",
        "printing(history)"
      ]
    },
    {
      "cell_type": "markdown",
      "metadata": {
        "id": "5MTw1fSghae9"
      },
      "source": [
        "#Активационные функции"
      ]
    },
    {
      "cell_type": "code",
      "execution_count": 38,
      "metadata": {
        "colab": {
          "base_uri": "https://localhost:8080/",
          "height": 626
        },
        "id": "pZL3AZI8he9t",
        "outputId": "449a3cc4-b5f8-4166-a52d-3eb3cd1e48c6"
      },
      "outputs": [
        {
          "output_type": "stream",
          "name": "stdout",
          "text": [
            "Epoch 1/10\n",
            "240/240 [==============================] - 2s 5ms/step - loss: 0.8299 - accuracy: 0.8195 - val_loss: 0.4007 - val_accuracy: 0.9003\n",
            "Epoch 2/10\n",
            "240/240 [==============================] - 1s 6ms/step - loss: 0.3573 - accuracy: 0.9054 - val_loss: 0.2922 - val_accuracy: 0.9212\n",
            "Epoch 3/10\n",
            "240/240 [==============================] - 2s 7ms/step - loss: 0.2838 - accuracy: 0.9212 - val_loss: 0.2508 - val_accuracy: 0.9308\n",
            "Epoch 4/10\n",
            "240/240 [==============================] - 2s 7ms/step - loss: 0.2442 - accuracy: 0.9305 - val_loss: 0.2241 - val_accuracy: 0.9372\n",
            "Epoch 5/10\n",
            "240/240 [==============================] - 1s 6ms/step - loss: 0.2154 - accuracy: 0.9391 - val_loss: 0.2065 - val_accuracy: 0.9428\n",
            "Epoch 6/10\n",
            "240/240 [==============================] - 1s 4ms/step - loss: 0.1934 - accuracy: 0.9450 - val_loss: 0.1867 - val_accuracy: 0.9488\n",
            "Epoch 7/10\n",
            "240/240 [==============================] - 1s 5ms/step - loss: 0.1746 - accuracy: 0.9501 - val_loss: 0.1762 - val_accuracy: 0.9496\n",
            "Epoch 8/10\n",
            "240/240 [==============================] - 2s 8ms/step - loss: 0.1594 - accuracy: 0.9548 - val_loss: 0.1639 - val_accuracy: 0.9527\n",
            "Epoch 9/10\n",
            "240/240 [==============================] - 2s 7ms/step - loss: 0.1466 - accuracy: 0.9581 - val_loss: 0.1552 - val_accuracy: 0.9558\n",
            "Epoch 10/10\n",
            "240/240 [==============================] - 2s 7ms/step - loss: 0.1350 - accuracy: 0.9616 - val_loss: 0.1476 - val_accuracy: 0.9573\n"
          ]
        },
        {
          "output_type": "display_data",
          "data": {
            "image/png": "[encoded data removed]",
            "text/plain": [
              "<Figure size 432x288 with 1 Axes>"
            ]
          },
          "metadata": {
            "needs_background": "light"
          }
        }
      ],
      "source": [
        "model = Sequential()\n",
        "\n",
        "# Входной полносвязный слой, 100 нейронов, 784 входа в каждый нейрон\n",
        "# Сигмоида позволяет усиливать слабые сигналы и уменьшает\n",
        "model.add(Dense(100, input_dim=784, activation=\"sigmoid\"))\n",
        "#model.add(Dropout(0.2))\n",
        "# Выходной полносвязный слой, 10 нейронов (по количеству рукописных цифр)\n",
        "model.add(Dense(10, activation=\"softmax\"))\n",
        "\n",
        "model.compile(loss=\"categorical_crossentropy\", optimizer=\"adam\", metrics=[\"accuracy\"])\n",
        "\n",
        "history = model.fit(x_train, \n",
        "                    y_train, \n",
        "                    batch_size=200, \n",
        "                    epochs=10,\n",
        "                    validation_split=0.2,\n",
        "                    verbose=1)\n",
        "\n",
        "printing(history)"
      ]
    },
    {
      "cell_type": "markdown",
      "source": [
        "# Материал изучения активационных функций\n",
        "https://neurohive.io/ru/osnovy-data-science/activation-functions/\n",
        "https://ru.wikipedia.org/wiki/%D0%A4%D1%83%D0%BD%D0%BA%D1%86%D0%B8%D1%8F_%D0%B0%D0%BA%D1%82%D0%B8%D0%B2%D0%B0%D1%86%D0%B8%D0%B8"
      ],
      "metadata": {
        "id": "2fsb4kvVyXnZ"
      }
    },
    {
      "cell_type": "markdown",
      "metadata": {
        "id": "W9N493xVkjTJ"
      },
      "source": [
        "#Усреднение точности сети по нескольким итерациям"
      ]
    },
    {
      "cell_type": "code",
      "execution_count": 33,
      "metadata": {
        "colab": {
          "base_uri": "https://localhost:8080/"
        },
        "id": "aW67cIqHkoOy",
        "outputId": "297e06e1-a24e-4ca3-d2f7-6fc652acbcd1"
      },
      "outputs": [
        {
          "output_type": "stream",
          "name": "stdout",
          "text": [
            "Запуск 1 точность 0.9210833311080933\n",
            "Запуск 2 точность 0.918666660785675\n",
            "Запуск 3 точность 0.921833336353302\n",
            "Запуск 4 точность 0.9243333339691162\n",
            "Запуск 5 точность 0.9096666574478149\n",
            "Запуск 6 точность 0.921916663646698\n",
            "Запуск 7 точность 0.9166666865348816\n",
            "Запуск 8 точность 0.9171666502952576\n",
            "Запуск 9 точность 0.9225000143051147\n",
            "Запуск 10 точность 0.9245833158493042\n"
          ]
        }
      ],
      "source": [
        "valAcc = []\n",
        "iterations = 10\n",
        "\n",
        "for i in range(1, iterations+1):\n",
        "  model = Sequential()\n",
        "\n",
        "  # Входной полносвязный слой, 800 нейронов, 784 входа в каждый нейрон\n",
        "  model.add(Dense(10, input_dim=784, activation=\"relu\"))\n",
        "  #model.add(Dropout(0.2))\n",
        "  # Выходной полносвязный слой, 10 нейронов (по количеству рукописных цифр)\n",
        "  model.add(Dense(10, activation=\"softmax\"))\n",
        "\n",
        "  model.compile(loss=\"categorical_crossentropy\", optimizer=\"adam\", metrics=[\"accuracy\"])\n",
        "\n",
        "  history = model.fit(x_train, \n",
        "                      y_train, \n",
        "                      batch_size=200, \n",
        "                      epochs=5,\n",
        "                      validation_split=0.2,\n",
        "                      verbose=0)\n",
        "  \n",
        "  # Массив точности работы нейронных сетей\n",
        "  currAcc = history.history['val_accuracy'][-1]\n",
        "  valAcc.append(currAcc)\n",
        "  print(\"Запуск\", i, \"точность\", currAcc)\n",
        "  "
      ]
    },
    {
      "cell_type": "code",
      "execution_count": 34,
      "metadata": {
        "colab": {
          "base_uri": "https://localhost:8080/"
        },
        "id": "P6FsPq6hlfJj",
        "outputId": "59063c70-595b-48b9-e4fc-dc6f7da52d65"
      },
      "outputs": [
        {
          "output_type": "stream",
          "name": "stdout",
          "text": [
            "0.9198416650295258\n",
            "0.014916658401489258\n"
          ]
        }
      ],
      "source": [
        "# Превращение из листа в numpy array для обработки данных\n",
        "valAcc = np.array(valAcc)\n",
        "# Среднее и амплитуда разброса точности\n",
        "meanAcc = sum(valAcc) / valAcc.shape[0]\n",
        "print(meanAcc)\n",
        "print(max(valAcc) - min(valAcc))"
      ]
    },
    {
      "cell_type": "markdown",
      "metadata": {
        "id": "g-wiJRbVmU9Z"
      },
      "source": [
        "#Запуск нескольких сетей"
      ]
    },
    {
      "cell_type": "code",
      "execution_count": 35,
      "metadata": {
        "id": "p0wyVUnwmfEO"
      },
      "outputs": [],
      "source": [
        "def evaluateModel(model, batchSize, epohs, valSplit):\n",
        "  model.compile(loss=\"categorical_crossentropy\", optimizer=\"adam\", metrics=[\"accuracy\"])\n",
        "\n",
        "  history = model.fit(x_train, \n",
        "                      y_train, \n",
        "                      batch_size=batchSize, \n",
        "                      epochs=epohs,\n",
        "                      validation_split=valSplit,\n",
        "                      verbose=0)\n",
        "  \n",
        "  currAcc = history.history['val_accuracy'][-1]\n",
        "  \n",
        "  return currAcc, history"
      ]
    },
    {
      "cell_type": "code",
      "execution_count": 36,
      "metadata": {
        "colab": {
          "base_uri": "https://localhost:8080/"
        },
        "id": "9Af_d8AUma5T",
        "outputId": "76b1ca61-dae2-4251-d8c3-01fb83d468b6"
      },
      "outputs": [
        {
          "output_type": "stream",
          "name": "stdout",
          "text": [
            "[0.9242500066757202, 0.9338333606719971, 0.9392499923706055]\n"
          ]
        }
      ],
      "source": [
        "models = []\n",
        "\n",
        "model = Sequential()\n",
        "model.add(Dense(10, input_dim=784, activation=\"relu\"))\n",
        "model.add(Dense(10, activation=\"softmax\"))\n",
        "models.append(model)\n",
        "\n",
        "model = Sequential()\n",
        "model.add(Dense(20, input_dim=784, activation=\"relu\"))\n",
        "model.add(Dense(10, activation=\"softmax\"))\n",
        "models.append(model)\n",
        "\n",
        "model = Sequential()\n",
        "model.add(Dense(30, input_dim=784, activation=\"relu\"))\n",
        "model.add(Dense(10, activation=\"softmax\"))\n",
        "models.append(model)\n",
        "\n",
        "# Массив с объемом данных, который будут обрабатывать нейроны за 1 эпоху для разных нейронок\n",
        "batchSisez = [100, 200, 300]\n",
        "\n",
        "acc = []\n",
        "hist = []\n",
        "for i in range(len(models)):\n",
        "  acc.append(evaluateModel(models[i], batchSisez[i], 5, 0.2))\n",
        "    \n",
        "print(acc)\n"
      ]
    }
  ],
  "metadata": {
    "accelerator": "GPU",
    "colab": {
      "collapsed_sections": [],
      "name": "Проект ИИ Манов Михаил. Обучающая, проверочная и тестовая выборки",
      "provenance": [],
      "toc_visible": true
    },
    "kernelspec": {
      "display_name": "Python 3",
      "name": "python3"
    }
  },
  "nbformat": 4,
  "nbformat_minor": 0
}