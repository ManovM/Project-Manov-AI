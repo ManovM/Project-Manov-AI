{
  "cells": [
    {
      "cell_type": "markdown",
      "metadata": {
        "id": "Ah7dy1kFL2H9"
      },
      "source": [
        "# Оценка качества обучения нейронной сети в Keras\n",
        "\n",
        "На примере распознаванию рукописных цифр из **набора данных MNIST**.\n",
        "\n",
        "Чтобы запускать и редактировать код, сохраните копию этого ноутбука себе (File->Save a copy in Drive...). Свою копию вы сможете изменять и запускать."
      ]
    },
    {
      "cell_type": "code",
      "execution_count": 2,
      "metadata": {
        "id": "qrfd6FzSLrE2"
      },
      "outputs": [],
      "source": [
        "from tensorflow.keras.datasets import mnist\n",
        "# mnist - библиотека для рукописных цифр\n",
        "from tensorflow.keras.models import Sequential\n",
        "# Вид связи - прямое распространение (нет хитрых архитектур)\n",
        "from tensorflow.keras.layers import Dense, Dropout\n",
        "# dence - библиотека где каждый нейрон одного слоя соединен с предыдущим\n",
        "# dropout - замена необученным нейроном обученного\n",
        "from tensorflow.keras import utils\n",
        "# преобразование цифры в вектор {0;1}\n",
        "from tensorflow.keras.preprocessing import image\n",
        "from google.colab import files\n",
        "# работа с файлами и картинками\n",
        "import numpy as np\n",
        "# работа с массивами\n",
        "import matplotlib.pyplot as plt\n",
        "# библиотека для визуализации данных\n",
        "from PIL import Image\n",
        "# работа с пикселями\n",
        "%matplotlib inline\n",
        "from tensorflow.keras.optimizers import Adam, RMSprop\n",
        "# Оптимизаторы"
      ]
    },
    {
      "cell_type": "markdown",
      "metadata": {
        "id": "xiurjCBVMDTG"
      },
      "source": [
        "## Подготовка данных для обучения сети"
      ]
    },
    {
      "cell_type": "markdown",
      "metadata": {
        "id": "1yDF75Cx8VPz"
      },
      "source": [
        "**Загружаем набор данных с рукописными цифрами**"
      ]
    },
    {
      "cell_type": "code",
      "execution_count": 3,
      "metadata": {
        "colab": {
          "base_uri": "https://localhost:8080/"
        },
        "id": "E5L3LUIi8PDV",
        "outputId": "2cdf0016-6a2b-48e5-ade6-557dbae5f8e1"
      },
      "outputs": [
        {
          "output_type": "stream",
          "name": "stdout",
          "text": [
            "Downloading data from https://storage.googleapis.com/tensorflow/tf-keras-datasets/mnist.npz\n",
            "11493376/11490434 [==============================] - 0s 0us/step\n",
            "11501568/11490434 [==============================] - 0s 0us/step\n"
          ]
        }
      ],
      "source": [
        "# В Keras встроены средства работы с популярными наборами данных\n",
        "# x_train_org - изображения из набора данных для обучения\n",
        "# y_train_org - правильные ответы (метки) к набору данных для обучения\n",
        "# x_test_org - изображения из набора данных для тестирования\n",
        "# y_test_org - правильные ответы (метки) к набору данных для тестирования\n",
        "(x_train_org, y_train_org), (x_test_org, y_test_org) = mnist.load_data()"
      ]
    },
    {
      "cell_type": "code",
      "execution_count": 4,
      "metadata": {
        "colab": {
          "base_uri": "https://localhost:8080/",
          "height": 265
        },
        "id": "ga0DtPJQVkEh",
        "outputId": "ca11c0b2-129a-4e7e-fc9e-92aac3e94f21"
      },
      "outputs": [
        {
          "output_type": "display_data",
          "data": {
            "image/png": "[encoded data removed]",
            "text/plain": [
              "<Figure size 432x288 with 1 Axes>"
            ]
          },
          "metadata": {
            "needs_background": "light"
          }
        }
      ],
      "source": [
        "n = 5\n",
        "# Достаем элемент n индекса для проверки обучающей выборки\n",
        "plt.imshow(Image.fromarray(x_test_org[n]).convert('RGBA'))\n",
        "plt.show()"
      ]
    },
    {
      "cell_type": "markdown",
      "metadata": {
        "id": "7uXTnIojJLbl"
      },
      "source": [
        "**Преобразование размерности данных в наборе**"
      ]
    },
    {
      "cell_type": "code",
      "execution_count": 5,
      "metadata": {
        "id": "GBAqLKjGJJ-V"
      },
      "outputs": [],
      "source": [
        "# Нейронные сети (кроме сверточных) не работают с 2d картинками, поэтому 28*28 превращаем в 784\n",
        "x_train = x_train_org.reshape(60000, 784)\n",
        "x_test = x_test_org.reshape(10000, 784)"
      ]
    },
    {
      "cell_type": "markdown",
      "metadata": {
        "id": "hDaHO5LgJYxU"
      },
      "source": [
        "**Нормализация данных**"
      ]
    },
    {
      "cell_type": "code",
      "execution_count": 6,
      "metadata": {
        "id": "rscaAuBNJdq9"
      },
      "outputs": [],
      "source": [
        "# Векторизованные операции\n",
        "# Применяются к каждому элементу массива отдельно\n",
        "x_train = x_train.astype('float32')\n",
        "x_train = x_train / 255 \n",
        "x_test = x_test.astype('float32')\n",
        "x_test = x_test / 255 "
      ]
    },
    {
      "cell_type": "markdown",
      "metadata": {
        "id": "KRcMlNzqJk1t"
      },
      "source": [
        "**Работа с правильными ответами**"
      ]
    },
    {
      "cell_type": "code",
      "execution_count": 7,
      "metadata": {
        "colab": {
          "base_uri": "https://localhost:8080/"
        },
        "id": "A5lKe_syJqPu",
        "outputId": "95d1596d-07b0-4eb1-84e8-c9f4c8673817"
      },
      "outputs": [
        {
          "output_type": "stream",
          "name": "stdout",
          "text": [
            "1\n"
          ]
        }
      ],
      "source": [
        "print(y_test_org[n])"
      ]
    },
    {
      "cell_type": "markdown",
      "metadata": {
        "id": "zqJ9GA1kJxBF"
      },
      "source": [
        "**Преобразуем метки в формат one hot encoding**"
      ]
    },
    {
      "cell_type": "code",
      "execution_count": 8,
      "metadata": {
        "id": "zQnasUyyJ3cG"
      },
      "outputs": [],
      "source": [
        "# превращение вектора из 0 и 1 в вектор с 10 классами \n",
        "y_train = utils.to_categorical(y_train_org, 10)\n",
        "y_test = utils.to_categorical(y_test_org, 10)"
      ]
    },
    {
      "cell_type": "markdown",
      "metadata": {
        "id": "KfuqlyjHJ_ye"
      },
      "source": [
        "**Правильный ответ в формате one hot encoding**"
      ]
    },
    {
      "cell_type": "code",
      "execution_count": 9,
      "metadata": {
        "colab": {
          "base_uri": "https://localhost:8080/"
        },
        "id": "9zUfd1aeKH3e",
        "outputId": "41bb76c0-6b59-498b-b38f-4645ffd5e453"
      },
      "outputs": [
        {
          "output_type": "stream",
          "name": "stdout",
          "text": [
            "[0. 1. 0. 0. 0. 0. 0. 0. 0. 0.]\n"
          ]
        }
      ],
      "source": [
        "print(y_test[n])"
      ]
    },
    {
      "cell_type": "markdown",
      "metadata": {
        "id": "BmTr_lXTKNbN"
      },
      "source": [
        "## Создаем нейронную сеть"
      ]
    },
    {
      "cell_type": "markdown",
      "metadata": {
        "id": "fV_igNZuMNXe"
      },
      "source": [
        "**Создаем последовательную модель**"
      ]
    },
    {
      "cell_type": "code",
      "execution_count": 10,
      "metadata": {
        "id": "D-jPYYxIKQkt"
      },
      "outputs": [],
      "source": [
        "# модель прямого распространения\n",
        "model = Sequential()"
      ]
    },
    {
      "cell_type": "markdown",
      "metadata": {
        "id": "Q3QzIVtBMQRG"
      },
      "source": [
        "**Добавляем уровни сети**\n",
        "\n",
        "Архитектуру сети взяли по ссылке - https://en.wikipedia.org/wiki/MNIST_database\n"
      ]
    },
    {
      "cell_type": "code",
      "execution_count": 11,
      "metadata": {
        "id": "kYVSvpNIMSnG"
      },
      "outputs": [],
      "source": [
        "# Dence - вид связи нейронов между слоями\n",
        "# Входной полносвязный слой, 800 нейронов, 784 входа в каждый нейрон\n",
        "# relu - полулинейная функция = max(0, x) = ln(1+e^x)\n",
        "model.add(Dense(800, input_dim=784, activation=\"relu\"))\n",
        "# Выходной полносвязный слой, 10 нейронов (по количеству рукописных цифр)\n",
        "# активационная функция softmax сделает так что на выходе сумма будет равна 1 \n",
        "model.add(Dense(10, activation=\"softmax\"))"
      ]
    },
    {
      "cell_type": "markdown",
      "metadata": {
        "id": "G__m76T-KWhd"
      },
      "source": [
        "**Компилируем сеть**"
      ]
    },
    {
      "cell_type": "code",
      "execution_count": 12,
      "metadata": {
        "colab": {
          "base_uri": "https://localhost:8080/"
        },
        "id": "PTcbSxchKZjd",
        "outputId": "4fa0248a-ea07-422d-bf34-409e750522d3"
      },
      "outputs": [
        {
          "output_type": "stream",
          "name": "stdout",
          "text": [
            "Model: \"sequential\"\n",
            "_________________________________________________________________\n",
            " Layer (type)                Output Shape              Param #   \n",
            "=================================================================\n",
            " dense (Dense)               (None, 800)               628000    \n",
            "                                                                 \n",
            " dense_1 (Dense)             (None, 10)                8010      \n",
            "                                                                 \n",
            "=================================================================\n",
            "Total params: 636,010\n",
            "Trainable params: 636,010\n",
            "Non-trainable params: 0\n",
            "_________________________________________________________________\n",
            "None\n"
          ]
        }
      ],
      "source": [
        "model.compile(loss=\"categorical_crossentropy\", optimizer=\"adam\", metrics=[\"accuracy\"])\n",
        "# выводит информацию о модуле \n",
        "print(model.summary())"
      ]
    },
    {
      "cell_type": "markdown",
      "metadata": {
        "id": "lspCHiaCKl72"
      },
      "source": [
        "## Обучаем нейронную сеть"
      ]
    },
    {
      "cell_type": "code",
      "execution_count": 16,
      "metadata": {
        "colab": {
          "base_uri": "https://localhost:8080/"
        },
        "id": "H6EIXu1dKoju",
        "outputId": "48f3b6fb-42f2-4be8-d7e9-1ca3155eda1c"
      },
      "outputs": [
        {
          "output_type": "stream",
          "name": "stdout",
          "text": [
            "Epoch 1/10\n",
            "300/300 [==============================] - 4s 11ms/step - loss: 1.7413 - accuracy: 0.7075\n",
            "Epoch 2/10\n",
            "300/300 [==============================] - 3s 11ms/step - loss: 0.8855 - accuracy: 0.7340\n",
            "Epoch 3/10\n",
            "300/300 [==============================] - 3s 11ms/step - loss: 0.9107 - accuracy: 0.7245\n",
            "Epoch 4/10\n",
            "300/300 [==============================] - 3s 11ms/step - loss: 0.9137 - accuracy: 0.7260\n",
            "Epoch 5/10\n",
            "300/300 [==============================] - 3s 11ms/step - loss: 0.9684 - accuracy: 0.7044\n",
            "Epoch 6/10\n",
            "300/300 [==============================] - 3s 11ms/step - loss: 0.9903 - accuracy: 0.6843\n",
            "Epoch 7/10\n",
            "300/300 [==============================] - 3s 10ms/step - loss: 1.0590 - accuracy: 0.6625\n",
            "Epoch 8/10\n",
            "300/300 [==============================] - 3s 11ms/step - loss: 1.0861 - accuracy: 0.6559\n",
            "Epoch 9/10\n",
            "300/300 [==============================] - 3s 11ms/step - loss: 1.0555 - accuracy: 0.6604\n",
            "Epoch 10/10\n",
            "300/300 [==============================] - 3s 11ms/step - loss: 1.0463 - accuracy: 0.6698\n"
          ]
        }
      ],
      "source": [
        "\"\"\"\n",
        "batch_size - объем данных, который будут обрабатывать нейроны за 1 эпоху.\n",
        "epochs - количество повторов обучения\n",
        "verbose=1 - выводит данные\n",
        "\"\"\"\n",
        "\n",
        "history = model.fit(x_train, \n",
        "                    y_train, \n",
        "                    batch_size=200, \n",
        "                    epochs=10,\n",
        "                    verbose=1)\n"
      ]
    },
    {
      "cell_type": "markdown",
      "metadata": {
        "id": "DzcAzNp5kz6q"
      },
      "source": [
        "## Проверяем качество обучения на тестовом наборе данных"
      ]
    },
    {
      "cell_type": "code",
      "execution_count": 17,
      "metadata": {
        "colab": {
          "base_uri": "https://localhost:8080/"
        },
        "id": "ZOymJgu_k7Fy",
        "outputId": "8b174b3b-a19f-4ec1-ca99-6db297962e3d"
      },
      "outputs": [
        {
          "output_type": "stream",
          "name": "stdout",
          "text": [
            "313/313 [==============================] - 1s 3ms/step - loss: 0.7117 - accuracy: 0.8252\n"
          ]
        }
      ],
      "source": [
        "# функция evaluate проверяет точность распознования на проверочной выборке\n",
        "scores = model.evaluate(x_test, y_test, verbose=1)"
      ]
    },
    {
      "cell_type": "code",
      "execution_count": 18,
      "metadata": {
        "colab": {
          "base_uri": "https://localhost:8080/"
        },
        "id": "iRwMRJn9l1V7",
        "outputId": "f3e206c5-39cf-4088-9df0-4f6dd2bec58d"
      },
      "outputs": [
        {
          "output_type": "execute_result",
          "data": {
            "text/plain": [
              "[0.7117328643798828, 0.8252000212669373]"
            ]
          },
          "metadata": {},
          "execution_count": 18
        }
      ],
      "source": [
        "scores"
      ]
    },
    {
      "cell_type": "code",
      "execution_count": 19,
      "metadata": {
        "colab": {
          "base_uri": "https://localhost:8080/"
        },
        "id": "eiCP0or9l4Cp",
        "outputId": "a4b7a8a6-6f5d-4c9c-e730-2d35a96b34db"
      },
      "outputs": [
        {
          "output_type": "stream",
          "name": "stdout",
          "text": [
            "Доля верных ответов на тестовых данных, в процентах: 82.52%\n"
          ]
        }
      ],
      "source": [
        "print(\"Доля верных ответов на тестовых данных, в процентах: \", round(scores[1] * 100, 4), \"%\", sep=\"\")"
      ]
    },
    {
      "cell_type": "markdown",
      "metadata": {
        "id": "8CsXpvtBvpIJ"
      },
      "source": [
        "#Проверочная выборка"
      ]
    },
    {
      "cell_type": "code",
      "execution_count": 20,
      "metadata": {
        "colab": {
          "base_uri": "https://localhost:8080/"
        },
        "id": "Plh0I1kPvso9",
        "outputId": "ebd94e75-d276-4260-861d-61410d41005f"
      },
      "outputs": [
        {
          "output_type": "stream",
          "name": "stdout",
          "text": [
            "Epoch 1/10\n",
            "240/240 [==============================] - 2s 7ms/step - loss: 0.5009 - accuracy: 0.8619 - val_loss: 0.2633 - val_accuracy: 0.9237\n",
            "Epoch 2/10\n",
            "240/240 [==============================] - 1s 5ms/step - loss: 0.2330 - accuracy: 0.9344 - val_loss: 0.1912 - val_accuracy: 0.9488\n",
            "Epoch 3/10\n",
            "240/240 [==============================] - 1s 6ms/step - loss: 0.1741 - accuracy: 0.9503 - val_loss: 0.1620 - val_accuracy: 0.9538\n",
            "Epoch 4/10\n",
            "240/240 [==============================] - 1s 6ms/step - loss: 0.1391 - accuracy: 0.9612 - val_loss: 0.1393 - val_accuracy: 0.9603\n",
            "Epoch 5/10\n",
            "240/240 [==============================] - 1s 5ms/step - loss: 0.1158 - accuracy: 0.9675 - val_loss: 0.1226 - val_accuracy: 0.9632\n",
            "Epoch 6/10\n",
            "240/240 [==============================] - 1s 6ms/step - loss: 0.0980 - accuracy: 0.9726 - val_loss: 0.1194 - val_accuracy: 0.9636\n",
            "Epoch 7/10\n",
            "240/240 [==============================] - 1s 6ms/step - loss: 0.0860 - accuracy: 0.9756 - val_loss: 0.1054 - val_accuracy: 0.9678\n",
            "Epoch 8/10\n",
            "240/240 [==============================] - 1s 5ms/step - loss: 0.0739 - accuracy: 0.9791 - val_loss: 0.1039 - val_accuracy: 0.9684\n",
            "Epoch 9/10\n",
            "240/240 [==============================] - 1s 6ms/step - loss: 0.0650 - accuracy: 0.9819 - val_loss: 0.0963 - val_accuracy: 0.9697\n",
            "Epoch 10/10\n",
            "240/240 [==============================] - 1s 6ms/step - loss: 0.0577 - accuracy: 0.9837 - val_loss: 0.0977 - val_accuracy: 0.9701\n"
          ]
        }
      ],
      "source": [
        "model = Sequential()\n",
        "\n",
        "# Входной полносвязный слой, 800 нейронов, 784 входа в каждый нейрон\n",
        "model.add(Dense(100, input_dim=784, activation=\"relu\"))\n",
        "# Выходной полносвязный слой, 10 нейронов (по количеству рукописных цифр)\n",
        "model.add(Dense(10, activation=\"softmax\"))\n",
        "\n",
        "model.compile(loss=\"categorical_crossentropy\", optimizer=\"adam\", metrics=[\"accuracy\"])\n",
        "\"\"\" \n",
        "validation_split - берет процент данных из обучающей выборки и добавляет ее в проверочную\n",
        "функция fit - способ указать проверучную выборку\n",
        "\"\"\"\n",
        "history = model.fit(x_train, \n",
        "                    y_train, \n",
        "                    batch_size=200, \n",
        "                    epochs=10,\n",
        "                    validation_split=0.2,\n",
        "                    verbose=1)"
      ]
    },
    {
      "cell_type": "code",
      "execution_count": 21,
      "metadata": {
        "colab": {
          "base_uri": "https://localhost:8080/"
        },
        "id": "CgNsTmBbvuck",
        "outputId": "346c60df-b281-4b98-90bc-b19a736f4c6c"
      },
      "outputs": [
        {
          "output_type": "stream",
          "name": "stdout",
          "text": [
            "Epoch 1/10\n",
            "200/200 [==============================] - 5s 21ms/step - loss: 0.3314 - accuracy: 0.9067 - val_loss: 0.1803 - val_accuracy: 0.9483\n",
            "Epoch 2/10\n",
            "200/200 [==============================] - 4s 20ms/step - loss: 0.1375 - accuracy: 0.9599 - val_loss: 0.1323 - val_accuracy: 0.9622\n",
            "Epoch 3/10\n",
            "200/200 [==============================] - 4s 20ms/step - loss: 0.0901 - accuracy: 0.9740 - val_loss: 0.1100 - val_accuracy: 0.9671\n",
            "Epoch 4/10\n",
            "200/200 [==============================] - 4s 20ms/step - loss: 0.0628 - accuracy: 0.9826 - val_loss: 0.0964 - val_accuracy: 0.9714\n",
            "Epoch 5/10\n",
            "200/200 [==============================] - 4s 20ms/step - loss: 0.0450 - accuracy: 0.9880 - val_loss: 0.0905 - val_accuracy: 0.9743\n",
            "Epoch 6/10\n",
            "200/200 [==============================] - 4s 20ms/step - loss: 0.0330 - accuracy: 0.9914 - val_loss: 0.0874 - val_accuracy: 0.9729\n",
            "Epoch 7/10\n",
            "200/200 [==============================] - 4s 20ms/step - loss: 0.0238 - accuracy: 0.9948 - val_loss: 0.0858 - val_accuracy: 0.9750\n",
            "Epoch 8/10\n",
            "200/200 [==============================] - 4s 20ms/step - loss: 0.0179 - accuracy: 0.9964 - val_loss: 0.0848 - val_accuracy: 0.9748\n",
            "Epoch 9/10\n",
            "200/200 [==============================] - 4s 20ms/step - loss: 0.0139 - accuracy: 0.9974 - val_loss: 0.0860 - val_accuracy: 0.9750\n",
            "Epoch 10/10\n",
            "200/200 [==============================] - 4s 20ms/step - loss: 0.0096 - accuracy: 0.9986 - val_loss: 0.0955 - val_accuracy: 0.9732\n"
          ]
        }
      ],
      "source": [
        "model = Sequential()\n",
        "\n",
        "# Входной полносвязный слой, 800 нейронов, 784 входа в каждый нейрон\n",
        "model.add(Dense(800, input_dim=784, activation=\"relu\"))\n",
        "# Выходной полносвязный слой, 10 нейронов (по количеству рукописных цифр)\n",
        "model.add(Dense(10, activation=\"softmax\"))\n",
        "\n",
        "model.compile(loss=\"categorical_crossentropy\", optimizer=\"adam\", metrics=[\"accuracy\"])\n",
        "\n",
        "nVal = 40000\n",
        "\n",
        "# validation_data=(x_train[nVal:], y_train[nVal:]) - на данном x или y делаем validation\n",
        "history = model.fit(x_train[:nVal], \n",
        "                    y_train[:nVal], \n",
        "                    batch_size=200, \n",
        "                    epochs=10,\n",
        "                    validation_data=(x_train[nVal:], y_train[nVal:]),\n",
        "                    verbose=1)"
      ]
    },
    {
      "cell_type": "markdown",
      "metadata": {
        "id": "wYhse8xmmdS5"
      },
      "source": [
        "## Визуализация качества обучения\n"
      ]
    },
    {
      "cell_type": "markdown",
      "metadata": {
        "id": "qcW4fHR3m7EN"
      },
      "source": [
        "Состав словаря History"
      ]
    },
    {
      "cell_type": "code",
      "execution_count": 22,
      "metadata": {
        "colab": {
          "base_uri": "https://localhost:8080/"
        },
        "id": "V3jp7JG5m9z-",
        "outputId": "76a2dea1-a131-4bbc-9923-253970b352de"
      },
      "outputs": [
        {
          "output_type": "stream",
          "name": "stdout",
          "text": [
            "dict_keys(['loss', 'accuracy', 'val_loss', 'val_accuracy'])\n"
          ]
        }
      ],
      "source": [
        "print(history.history.keys())"
      ]
    },
    {
      "cell_type": "markdown",
      "metadata": {
        "id": "sKzHMBi6507f"
      },
      "source": [
        "Печатаем значения ошибки на обучающем наборе данных"
      ]
    },
    {
      "cell_type": "code",
      "execution_count": 23,
      "metadata": {
        "colab": {
          "base_uri": "https://localhost:8080/"
        },
        "id": "5LIOJULboAcG",
        "outputId": "3301fbdb-e4eb-4ca3-e7b0-a0a6cfe6d761"
      },
      "outputs": [
        {
          "output_type": "execute_result",
          "data": {
            "text/plain": [
              "[0.33139508962631226,\n",
              " 0.13752879202365875,\n",
              " 0.09009759873151779,\n",
              " 0.06280235946178436,\n",
              " 0.045044008642435074,\n",
              " 0.03300371393561363,\n",
              " 0.023755894973874092,\n",
              " 0.017874598503112793,\n",
              " 0.01389645878225565,\n",
              " 0.009647052735090256]"
            ]
          },
          "metadata": {},
          "execution_count": 23
        }
      ],
      "source": [
        "history.history['loss']"
      ]
    },
    {
      "cell_type": "markdown",
      "metadata": {
        "id": "LzcHkPZAoZMD"
      },
      "source": [
        "Печатаем долю неверных ответов на проверочном наборе данных"
      ]
    },
    {
      "cell_type": "code",
      "execution_count": 24,
      "metadata": {
        "colab": {
          "base_uri": "https://localhost:8080/",
          "height": 279
        },
        "id": "-UOcvkr62Z6p",
        "outputId": "5261fb1a-b54d-4c7f-fe52-c27e032e09bd"
      },
      "outputs": [
        {
          "output_type": "display_data",
          "data": {
            "image/png": "[encoded data removed]",
            "text/plain": [
              "<Figure size 432x288 with 1 Axes>"
            ]
          },
          "metadata": {
            "needs_background": "light"
          }
        }
      ],
      "source": [
        "# График ошибок на обучающем наборе\n",
        "plt.plot(history.history['loss'], \n",
        "         label='Ошибка на обучающем наборе')\n",
        "# График ошибок на проверочном наборе\n",
        "plt.plot(history.history['val_loss'], \n",
        "         label='Ошибка на проверочном наборе')\n",
        "# Подписываем оси\n",
        "plt.xlabel('Эпоха обучения')\n",
        "plt.ylabel('Ошибка')\n",
        "plt.legend()\n",
        "plt.show()"
      ]
    },
    {
      "cell_type": "markdown",
      "metadata": {
        "id": "ERps5ER1cgpf"
      },
      "source": [
        "#Переобучение\n",
        "**Без Dropout**"
      ]
    },
    {
      "cell_type": "code",
      "execution_count": 39,
      "metadata": {
        "colab": {
          "base_uri": "https://localhost:8080/",
          "height": 681
        },
        "id": "wRUJID5zclEJ",
        "outputId": "fd3b7acf-0080-41c2-ea03-8e90e9f02033"
      },
      "outputs": [
        {
          "output_type": "stream",
          "name": "stderr",
          "text": [
            "/usr/local/lib/python3.7/dist-packages/keras/optimizer_v2/adam.py:105: UserWarning: The `lr` argument is deprecated, use `learning_rate` instead.\n",
            "  super(Adam, self).__init__(name, **kwargs)\n"
          ]
        },
        {
          "output_type": "stream",
          "name": "stdout",
          "text": [
            "Epoch 1/10\n",
            "1/1 [==============================] - 6s 6s/step - loss: 2.2696 - accuracy: 0.1600 - val_loss: 38.4201 - val_accuracy: 0.2281\n",
            "Epoch 2/10\n",
            "1/1 [==============================] - 2s 2s/step - loss: 23.9349 - accuracy: 0.3500 - val_loss: 48.6504 - val_accuracy: 0.4253\n",
            "Epoch 3/10\n",
            "1/1 [==============================] - 2s 2s/step - loss: 46.0079 - accuracy: 0.5200 - val_loss: 67.2733 - val_accuracy: 0.2614\n",
            "Epoch 4/10\n",
            "1/1 [==============================] - 2s 2s/step - loss: 60.0063 - accuracy: 0.3400 - val_loss: 51.3470 - val_accuracy: 0.3438\n",
            "Epoch 5/10\n",
            "1/1 [==============================] - 3s 3s/step - loss: 35.4461 - accuracy: 0.5200 - val_loss: 29.4426 - val_accuracy: 0.3560\n",
            "Epoch 6/10\n",
            "1/1 [==============================] - 2s 2s/step - loss: 15.0121 - accuracy: 0.6200 - val_loss: 13.6128 - val_accuracy: 0.4748\n",
            "Epoch 7/10\n",
            "1/1 [==============================] - 2s 2s/step - loss: 3.8063 - accuracy: 0.7800 - val_loss: 9.1928 - val_accuracy: 0.5446\n",
            "Epoch 8/10\n",
            "1/1 [==============================] - 3s 3s/step - loss: 1.5517 - accuracy: 0.8900 - val_loss: 9.0654 - val_accuracy: 0.5314\n",
            "Epoch 9/10\n",
            "1/1 [==============================] - 2s 2s/step - loss: 0.9998 - accuracy: 0.9100 - val_loss: 9.6772 - val_accuracy: 0.5254\n",
            "Epoch 10/10\n",
            "1/1 [==============================] - 3s 3s/step - loss: 0.6249 - accuracy: 0.8900 - val_loss: 9.8913 - val_accuracy: 0.5310\n"
          ]
        },
        {
          "output_type": "display_data",
          "data": {
            "image/png": "[encoded data removed]",
            "text/plain": [
              "<Figure size 432x288 with 1 Axes>"
            ]
          },
          "metadata": {
            "needs_background": "light"
          }
        }
      ],
      "source": [
        "model = Sequential()\n",
        "\n",
        "# Входной полносвязный слой, 800 нейронов, 784 входа в каждый нейрон\n",
        "model.add(Dense(400, input_dim=784, activation=\"relu\"))\n",
        "# Выходной полносвязный слой, 10 нейронов (по количеству рукописных цифр)\n",
        "model.add(Dense(10, activation=\"softmax\"))\n",
        "\n",
        "model.compile(loss=\"categorical_crossentropy\", optimizer=Adam(lr=1e-1), metrics=[\"accuracy\"])\n",
        "\n",
        "nVal = 100\n",
        "\"\"\"\n",
        "Функция, указывающая проверучную выборку для сети\n",
        "\"\"\"\n",
        "def show_history(model, x_train, y_train):\n",
        "  history = model.fit(x_train[:nVal], \n",
        "                      y_train[:nVal], \n",
        "                      batch_size=100, \n",
        "                      epochs=10,\n",
        "                      validation_data=(x_train[nVal:], y_train[nVal:]),\n",
        "                      verbose=1)\n",
        "show_history(model, x_train[nVal:], y_train[nVal:])\n",
        "\"\"\"\n",
        "Функция визуализации точности и ошибок в сети\n",
        "\"\"\"\n",
        "def printing(history_accuracy, history_val_accuracy):\n",
        "  plt.plot(history_accuracy, \n",
        "            label='Доля верных ответов на обучающем наборе')\n",
        "  plt.plot(history_val_accuracy, \n",
        "            label='Доля верных ответов на проверочном наборе')\n",
        "  plt.xlabel('Эпоха обучения')\n",
        "  plt.ylabel('Доля верных ответов')\n",
        "  plt.legend()\n",
        "  plt.show()\n",
        "printing(history.history['accuracy'], history.history['val_accuracy'])"
      ]
    },
    {
      "cell_type": "markdown",
      "metadata": {
        "id": "4gZyG8hD3ZWM"
      },
      "source": [
        "**Dropout 30%**"
      ]
    },
    {
      "cell_type": "code",
      "execution_count": 40,
      "metadata": {
        "colab": {
          "base_uri": "https://localhost:8080/",
          "height": 681
        },
        "id": "1cL1-VKkdmuq",
        "outputId": "eb54cf0e-3c3f-43b3-ac62-ec449152787d"
      },
      "outputs": [
        {
          "output_type": "stream",
          "name": "stderr",
          "text": [
            "/usr/local/lib/python3.7/dist-packages/keras/optimizer_v2/adam.py:105: UserWarning: The `lr` argument is deprecated, use `learning_rate` instead.\n",
            "  super(Adam, self).__init__(name, **kwargs)\n"
          ]
        },
        {
          "output_type": "stream",
          "name": "stdout",
          "text": [
            "Epoch 1/10\n",
            "2/2 [==============================] - 2s 2s/step - loss: 16.2908 - accuracy: 0.1750 - val_loss: 44.8671 - val_accuracy: 0.5262\n",
            "Epoch 2/10\n",
            "2/2 [==============================] - 2s 2s/step - loss: 47.0674 - accuracy: 0.4700 - val_loss: 43.0156 - val_accuracy: 0.3324\n",
            "Epoch 3/10\n",
            "2/2 [==============================] - 2s 2s/step - loss: 19.1650 - accuracy: 0.5450 - val_loss: 9.2336 - val_accuracy: 0.5265\n",
            "Epoch 4/10\n",
            "2/2 [==============================] - 2s 2s/step - loss: 5.1509 - accuracy: 0.6450 - val_loss: 5.2903 - val_accuracy: 0.5502\n",
            "Epoch 5/10\n",
            "2/2 [==============================] - 2s 2s/step - loss: 2.2981 - accuracy: 0.7450 - val_loss: 3.8062 - val_accuracy: 0.6140\n",
            "Epoch 6/10\n",
            "2/2 [==============================] - 2s 2s/step - loss: 0.8331 - accuracy: 0.8550 - val_loss: 2.9761 - val_accuracy: 0.6079\n",
            "Epoch 7/10\n",
            "2/2 [==============================] - 2s 2s/step - loss: 0.5965 - accuracy: 0.8250 - val_loss: 2.6275 - val_accuracy: 0.6223\n",
            "Epoch 8/10\n",
            "2/2 [==============================] - 2s 2s/step - loss: 0.7066 - accuracy: 0.8100 - val_loss: 2.4598 - val_accuracy: 0.6424\n",
            "Epoch 9/10\n",
            "2/2 [==============================] - 2s 2s/step - loss: 0.5983 - accuracy: 0.8350 - val_loss: 2.5804 - val_accuracy: 0.6460\n",
            "Epoch 10/10\n",
            "2/2 [==============================] - 2s 2s/step - loss: 0.5215 - accuracy: 0.8650 - val_loss: 2.6781 - val_accuracy: 0.6441\n"
          ]
        },
        {
          "output_type": "display_data",
          "data": {
            "image/png": "[encoded data removed]",
            "text/plain": [
              "<Figure size 432x288 with 1 Axes>"
            ]
          },
          "metadata": {
            "needs_background": "light"
          }
        }
      ],
      "source": [
        "model = Sequential()\n",
        "\n",
        "# Входной полносвязный слой, 800 нейронов, 784 входа в каждый нейрон\n",
        "model.add(Dense(400, input_dim=784, activation=\"relu\"))\n",
        "model.add(Dropout(0.3))\n",
        "# Выходной полносвязный слой, 10 нейронов (по количеству рукописных цифр)\n",
        "model.add(Dense(10, activation=\"softmax\"))\n",
        "\n",
        "model.compile(loss=\"categorical_crossentropy\", optimizer=Adam(lr=1e-1), metrics=[\"accuracy\"])\n",
        "\n",
        "nVal = 200\n",
        "\n",
        "show_history(model, x_train[nVal:], y_train[nVal:])\n",
        "printing(history.history['accuracy'], history.history['val_accuracy'])"
      ]
    },
    {
      "cell_type": "markdown",
      "metadata": {
        "id": "mzP1Cl1S3d1D"
      },
      "source": [
        "**Dropout 80%**"
      ]
    },
    {
      "cell_type": "code",
      "execution_count": 41,
      "metadata": {
        "colab": {
          "base_uri": "https://localhost:8080/",
          "height": 681
        },
        "id": "4-8FRn0b2l9a",
        "outputId": "e6830b68-dd2f-40ca-90b3-1980930b31af"
      },
      "outputs": [
        {
          "output_type": "stream",
          "name": "stderr",
          "text": [
            "/usr/local/lib/python3.7/dist-packages/keras/optimizer_v2/adam.py:105: UserWarning: The `lr` argument is deprecated, use `learning_rate` instead.\n",
            "  super(Adam, self).__init__(name, **kwargs)\n"
          ]
        },
        {
          "output_type": "stream",
          "name": "stdout",
          "text": [
            "Epoch 1/10\n",
            "1/1 [==============================] - 2s 2s/step - loss: 2.6239 - accuracy: 0.0600 - val_loss: 18.1584 - val_accuracy: 0.3131\n",
            "Epoch 2/10\n",
            "1/1 [==============================] - 3s 3s/step - loss: 23.5719 - accuracy: 0.2300 - val_loss: 22.3419 - val_accuracy: 0.3075\n",
            "Epoch 3/10\n",
            "1/1 [==============================] - 2s 2s/step - loss: 25.1696 - accuracy: 0.3600 - val_loss: 15.4660 - val_accuracy: 0.4659\n",
            "Epoch 4/10\n",
            "1/1 [==============================] - 2s 2s/step - loss: 16.3495 - accuracy: 0.4500 - val_loss: 9.3647 - val_accuracy: 0.5589\n",
            "Epoch 5/10\n",
            "1/1 [==============================] - 2s 2s/step - loss: 10.7521 - accuracy: 0.5900 - val_loss: 10.2409 - val_accuracy: 0.5757\n",
            "Epoch 6/10\n",
            "1/1 [==============================] - 2s 2s/step - loss: 9.6598 - accuracy: 0.5600 - val_loss: 8.7001 - val_accuracy: 0.6242\n",
            "Epoch 7/10\n",
            "1/1 [==============================] - 2s 2s/step - loss: 12.5553 - accuracy: 0.6300 - val_loss: 6.4857 - val_accuracy: 0.6635\n",
            "Epoch 8/10\n",
            "1/1 [==============================] - 2s 2s/step - loss: 7.5367 - accuracy: 0.6100 - val_loss: 6.6094 - val_accuracy: 0.6455\n",
            "Epoch 9/10\n",
            "1/1 [==============================] - 2s 2s/step - loss: 5.4795 - accuracy: 0.7100 - val_loss: 6.7874 - val_accuracy: 0.6250\n",
            "Epoch 10/10\n",
            "1/1 [==============================] - 3s 3s/step - loss: 5.5030 - accuracy: 0.6900 - val_loss: 7.1012 - val_accuracy: 0.6105\n"
          ]
        },
        {
          "output_type": "display_data",
          "data": {
            "image/png": "[encoded data removed]",
            "text/plain": [
              "<Figure size 432x288 with 1 Axes>"
            ]
          },
          "metadata": {
            "needs_background": "light"
          }
        }
      ],
      "source": [
        "from tensorflow.python.keras.metrics import accuracy\n",
        "model = Sequential()\n",
        "\n",
        "# Входной полносвязный слой, 800 нейронов, 784 входа в каждый нейрон\n",
        "model.add(Dense(400, input_dim=784, activation=\"relu\"))\n",
        "model.add(Dropout(0.8))\n",
        "# Выходной полносвязный слой, 10 нейронов (по количеству рукописных цифр)\n",
        "model.add(Dense(10, activation=\"softmax\"))\n",
        "\n",
        "model.compile(loss=\"categorical_crossentropy\", optimizer=Adam(lr=1e-1), metrics=[\"accuracy\"])\n",
        "\n",
        "nVal = 100\n",
        "\n",
        "show_history(model, x_train, y_train)\n",
        "printing(history.history['accuracy'], history.history['val_accuracy'])"
      ]
    },
    {
      "cell_type": "markdown",
      "metadata": {
        "id": "4BICqzKS3f7E"
      },
      "source": [
        "**Dropout 10%**"
      ]
    },
    {
      "cell_type": "code",
      "execution_count": 42,
      "metadata": {
        "colab": {
          "base_uri": "https://localhost:8080/",
          "height": 681
        },
        "id": "ljkSN6483GEA",
        "outputId": "4141c8a5-7362-4c1b-93dd-b84144f0257b"
      },
      "outputs": [
        {
          "output_type": "stream",
          "name": "stderr",
          "text": [
            "/usr/local/lib/python3.7/dist-packages/keras/optimizer_v2/adam.py:105: UserWarning: The `lr` argument is deprecated, use `learning_rate` instead.\n",
            "  super(Adam, self).__init__(name, **kwargs)\n"
          ]
        },
        {
          "output_type": "stream",
          "name": "stdout",
          "text": [
            "Epoch 1/10\n",
            "1/1 [==============================] - 2s 2s/step - loss: 2.2757 - accuracy: 0.1500 - val_loss: 48.0470 - val_accuracy: 0.2198\n",
            "Epoch 2/10\n",
            "1/1 [==============================] - 2s 2s/step - loss: 31.6505 - accuracy: 0.2500 - val_loss: 49.8258 - val_accuracy: 0.3208\n",
            "Epoch 3/10\n",
            "1/1 [==============================] - 3s 3s/step - loss: 44.5459 - accuracy: 0.4500 - val_loss: 46.4218 - val_accuracy: 0.2841\n",
            "Epoch 4/10\n",
            "1/1 [==============================] - 3s 3s/step - loss: 44.1418 - accuracy: 0.3600 - val_loss: 23.3016 - val_accuracy: 0.3123\n",
            "Epoch 5/10\n",
            "1/1 [==============================] - 3s 3s/step - loss: 17.0388 - accuracy: 0.4900 - val_loss: 8.3650 - val_accuracy: 0.5088\n",
            "Epoch 6/10\n",
            "1/1 [==============================] - 3s 3s/step - loss: 3.2432 - accuracy: 0.7700 - val_loss: 12.3011 - val_accuracy: 0.4626\n",
            "Epoch 7/10\n",
            "1/1 [==============================] - 3s 3s/step - loss: 2.0215 - accuracy: 0.8200 - val_loss: 13.4829 - val_accuracy: 0.4696\n",
            "Epoch 8/10\n",
            "1/1 [==============================] - 3s 3s/step - loss: 1.4810 - accuracy: 0.8200 - val_loss: 10.6567 - val_accuracy: 0.5599\n",
            "Epoch 9/10\n",
            "1/1 [==============================] - 3s 3s/step - loss: 0.3683 - accuracy: 0.9500 - val_loss: 9.1788 - val_accuracy: 0.6140\n",
            "Epoch 10/10\n",
            "1/1 [==============================] - 2s 2s/step - loss: 0.3969 - accuracy: 0.9700 - val_loss: 8.7348 - val_accuracy: 0.6269\n"
          ]
        },
        {
          "output_type": "display_data",
          "data": {
            "image/png": "[encoded data removed]",
            "text/plain": [
              "<Figure size 432x288 with 1 Axes>"
            ]
          },
          "metadata": {
            "needs_background": "light"
          }
        }
      ],
      "source": [
        "model = Sequential()\n",
        "\n",
        "# Входной полносвязный слой, 800 нейронов, 784 входа в каждый нейрон\n",
        "model.add(Dense(400, input_dim=784, activation=\"relu\"))\n",
        "model.add(Dropout(0.1))\n",
        "# Выходной полносвязный слой, 10 нейронов (по количеству рукописных цифр)\n",
        "model.add(Dense(10, activation=\"softmax\"))\n",
        "\n",
        "model.compile(loss=\"categorical_crossentropy\", optimizer=Adam(lr=1e-1), metrics=[\"accuracy\"])\n",
        "\n",
        "nVal = 100\n",
        "\n",
        "show_history(model, x_train, y_train)\n",
        "printing(history.history['accuracy'], history.history['val_accuracy'])"
      ]
    },
    {
      "cell_type": "markdown",
      "metadata": {
        "id": "5MTw1fSghae9"
      },
      "source": [
        "#Активационные функции"
      ]
    },
    {
      "cell_type": "code",
      "execution_count": 43,
      "metadata": {
        "colab": {
          "base_uri": "https://localhost:8080/",
          "height": 626
        },
        "id": "pZL3AZI8he9t",
        "outputId": "4d16757e-74f0-449d-bc22-7a657baec30c"
      },
      "outputs": [
        {
          "output_type": "stream",
          "name": "stdout",
          "text": [
            "Epoch 1/10\n",
            "240/240 [==============================] - 2s 6ms/step - loss: 0.8360 - accuracy: 0.8182 - val_loss: 0.4034 - val_accuracy: 0.9000\n",
            "Epoch 2/10\n",
            "240/240 [==============================] - 1s 6ms/step - loss: 0.3599 - accuracy: 0.9051 - val_loss: 0.2954 - val_accuracy: 0.9203\n",
            "Epoch 3/10\n",
            "240/240 [==============================] - 1s 6ms/step - loss: 0.2856 - accuracy: 0.9204 - val_loss: 0.2508 - val_accuracy: 0.9315\n",
            "Epoch 4/10\n",
            "240/240 [==============================] - 1s 5ms/step - loss: 0.2462 - accuracy: 0.9308 - val_loss: 0.2239 - val_accuracy: 0.9377\n",
            "Epoch 5/10\n",
            "240/240 [==============================] - 1s 6ms/step - loss: 0.2174 - accuracy: 0.9388 - val_loss: 0.2031 - val_accuracy: 0.9438\n",
            "Epoch 6/10\n",
            "240/240 [==============================] - 1s 6ms/step - loss: 0.1960 - accuracy: 0.9445 - val_loss: 0.1873 - val_accuracy: 0.9459\n",
            "Epoch 7/10\n",
            "240/240 [==============================] - 1s 6ms/step - loss: 0.1774 - accuracy: 0.9495 - val_loss: 0.1732 - val_accuracy: 0.9516\n",
            "Epoch 8/10\n",
            "240/240 [==============================] - 1s 6ms/step - loss: 0.1618 - accuracy: 0.9545 - val_loss: 0.1644 - val_accuracy: 0.9538\n",
            "Epoch 9/10\n",
            "240/240 [==============================] - 1s 6ms/step - loss: 0.1490 - accuracy: 0.9578 - val_loss: 0.1541 - val_accuracy: 0.9578\n",
            "Epoch 10/10\n",
            "240/240 [==============================] - 2s 6ms/step - loss: 0.1369 - accuracy: 0.9614 - val_loss: 0.1467 - val_accuracy: 0.9578\n"
          ]
        },
        {
          "output_type": "display_data",
          "data": {
            "image/png": "[encoded data removed]",
            "text/plain": [
              "<Figure size 432x288 with 1 Axes>"
            ]
          },
          "metadata": {
            "needs_background": "light"
          }
        }
      ],
      "source": [
        "model = Sequential()\n",
        "\n",
        "# Входной полносвязный слой, 100 нейронов, 784 входа в каждый нейрон\n",
        "# Сигмоида позволяет усиливать слабые сигналы и уменьшает\n",
        "model.add(Dense(100, input_dim=784, activation=\"sigmoid\"))\n",
        "#model.add(Dropout(0.2))\n",
        "# Выходной полносвязный слой, 10 нейронов (по количеству рукописных цифр)\n",
        "model.add(Dense(10, activation=\"softmax\"))\n",
        "\n",
        "model.compile(loss=\"categorical_crossentropy\", optimizer=\"adam\", metrics=[\"accuracy\"])\n",
        "\n",
        "history = model.fit(x_train, \n",
        "                    y_train, \n",
        "                    batch_size=200, \n",
        "                    epochs=10,\n",
        "                    validation_split=0.2,\n",
        "                    verbose=1)\n",
        "\n",
        "printing(history.history['accuracy'], history.history['val_accuracy'])"
      ]
    },
    {
      "cell_type": "markdown",
      "source": [
        "# Материал изучения активационных функций\n",
        "https://neurohive.io/ru/osnovy-data-science/activation-functions/\n",
        "https://ru.wikipedia.org/wiki/%D0%A4%D1%83%D0%BD%D0%BA%D1%86%D0%B8%D1%8F_%D0%B0%D0%BA%D1%82%D0%B8%D0%B2%D0%B0%D1%86%D0%B8%D0%B8"
      ],
      "metadata": {
        "id": "2fsb4kvVyXnZ"
      }
    },
    {
      "cell_type": "markdown",
      "metadata": {
        "id": "W9N493xVkjTJ"
      },
      "source": [
        "#Усреднение точности сети по нескольким итерациям"
      ]
    },
    {
      "cell_type": "code",
      "execution_count": 44,
      "metadata": {
        "colab": {
          "base_uri": "https://localhost:8080/"
        },
        "id": "aW67cIqHkoOy",
        "outputId": "826e6dc7-a2ea-44e0-a17f-409372c34151"
      },
      "outputs": [
        {
          "output_type": "stream",
          "name": "stdout",
          "text": [
            "Запуск 1 точность 0.921750009059906\n",
            "Запуск 2 точность 0.9236666560173035\n",
            "Запуск 3 точность 0.925000011920929\n",
            "Запуск 4 точность 0.921583354473114\n",
            "Запуск 5 точность 0.9261666536331177\n",
            "Запуск 6 точность 0.918833315372467\n",
            "Запуск 7 точность 0.9237499833106995\n",
            "Запуск 8 точность 0.9202499985694885\n",
            "Запуск 9 точность 0.9231666922569275\n",
            "Запуск 10 точность 0.9243333339691162\n"
          ]
        }
      ],
      "source": [
        "valAcc = []\n",
        "iterations = 10\n",
        "\n",
        "for i in range(1, iterations+1):\n",
        "  model = Sequential()\n",
        "\n",
        "  # Входной полносвязный слой, 800 нейронов, 784 входа в каждый нейрон\n",
        "  model.add(Dense(10, input_dim=784, activation=\"relu\"))\n",
        "  #model.add(Dropout(0.2))\n",
        "  # Выходной полносвязный слой, 10 нейронов (по количеству рукописных цифр)\n",
        "  model.add(Dense(10, activation=\"softmax\"))\n",
        "\n",
        "  model.compile(loss=\"categorical_crossentropy\", optimizer=\"adam\", metrics=[\"accuracy\"])\n",
        "\n",
        "  history = model.fit(x_train, \n",
        "                      y_train, \n",
        "                      batch_size=200, \n",
        "                      epochs=5,\n",
        "                      validation_split=0.2,\n",
        "                      verbose=0)\n",
        "  \n",
        "  # Массив точности работы нейронных сетей\n",
        "  currAcc = history.history['val_accuracy'][-1]\n",
        "  valAcc.append(currAcc)\n",
        "  print(\"Запуск\", i, \"точность\", currAcc)\n",
        "  "
      ]
    },
    {
      "cell_type": "code",
      "execution_count": 45,
      "metadata": {
        "colab": {
          "base_uri": "https://localhost:8080/"
        },
        "id": "P6FsPq6hlfJj",
        "outputId": "c044a5c8-ba98-48bd-f304-d9c912bc4d80"
      },
      "outputs": [
        {
          "output_type": "stream",
          "name": "stdout",
          "text": [
            "0.9228500008583069\n",
            "0.007333338260650635\n"
          ]
        }
      ],
      "source": [
        "# Превращение из листа в numpy array для обработки данных\n",
        "valAcc = np.array(valAcc)\n",
        "# Среднее и амплитуда разброса точности\n",
        "meanAcc = sum(valAcc) / valAcc.shape[0]\n",
        "print(meanAcc)\n",
        "print(max(valAcc) - min(valAcc))"
      ]
    },
    {
      "cell_type": "markdown",
      "metadata": {
        "id": "g-wiJRbVmU9Z"
      },
      "source": [
        "#Запуск нескольких сетей"
      ]
    },
    {
      "cell_type": "code",
      "execution_count": 47,
      "metadata": {
        "id": "p0wyVUnwmfEO"
      },
      "outputs": [],
      "source": [
        "\"\"\"Делаем функции с разным batch size-ом\"\"\"\n",
        "def evaluateModel(model, batchSize, epohs, valSplit):\n",
        "  model.compile(loss=\"categorical_crossentropy\", optimizer=\"adam\", metrics=[\"accuracy\"])\n",
        "\n",
        "  history = model.fit(x_train, \n",
        "                      y_train, \n",
        "                      batch_size=batchSize, \n",
        "                      epochs=epohs,\n",
        "                      validation_split=valSplit,\n",
        "                      verbose=0)\n",
        "  \n",
        "  currAcc = history.history['val_accuracy'][-1]\n",
        "  \n",
        "  return currAcc, history"
      ]
    },
    {
      "cell_type": "code",
      "execution_count": 48,
      "metadata": {
        "colab": {
          "base_uri": "https://localhost:8080/"
        },
        "id": "9Af_d8AUma5T",
        "outputId": "c7c9b112-77e7-4340-f054-2bf70812789b"
      },
      "outputs": [
        {
          "output_type": "stream",
          "name": "stdout",
          "text": [
            "[(0.9289166927337646, <keras.callbacks.History object at 0x7f3aea3aa790>), (0.9363333582878113, <keras.callbacks.History object at 0x7f3ae8b1ca50>), (0.9424166679382324, <keras.callbacks.History object at 0x7f3ae887bc50>)]\n"
          ]
        }
      ],
      "source": [
        "models = []\n",
        "\n",
        "model = Sequential()\n",
        "model.add(Dense(10, input_dim=784, activation=\"relu\"))\n",
        "model.add(Dense(10, activation=\"softmax\"))\n",
        "models.append(model)\n",
        "\n",
        "model = Sequential()\n",
        "model.add(Dense(20, input_dim=784, activation=\"relu\"))\n",
        "model.add(Dense(10, activation=\"softmax\"))\n",
        "models.append(model)\n",
        "\n",
        "model = Sequential()\n",
        "model.add(Dense(30, input_dim=784, activation=\"relu\"))\n",
        "model.add(Dense(10, activation=\"softmax\"))\n",
        "models.append(model)\n",
        "\n",
        "# Массив с объемом данных, который будут обрабатывать нейроны за 1 эпоху для разных нейронок\n",
        "batchSisez = [100, 200, 300]\n",
        "\n",
        "acc = []\n",
        "hist = []\n",
        "for i in range(len(models)):\n",
        "  acc.append(evaluateModel(models[i], batchSisez[i], 5, 0.2))\n",
        "    \n",
        "print(acc)\n"
      ]
    }
  ],
  "metadata": {
    "accelerator": "GPU",
    "colab": {
      "collapsed_sections": [],
      "name": "Проект ИИ Манов Михаил. Обучающая, проверочная и тестовая выборки",
      "provenance": [],
      "toc_visible": true
    },
    "kernelspec": {
      "display_name": "Python 3",
      "name": "python3"
    }
  },
  "nbformat": 4,
  "nbformat_minor": 0
}