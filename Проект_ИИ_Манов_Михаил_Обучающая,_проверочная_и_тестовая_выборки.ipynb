{
  "cells": [
    {
      "cell_type": "markdown",
      "metadata": {
        "id": "Ah7dy1kFL2H9"
      },
      "source": [
        "# Оценка качества обучения нейронной сети в Keras\n",
        "\n",
        "На примере распознаванию рукописных цифр из **набора данных MNIST**.\n",
        "\n",
        "Чтобы запускать и редактировать код, сохраните копию этого ноутбука себе (File->Save a copy in Drive...). Свою копию вы сможете изменять и запускать."
      ]
    },
    {
      "cell_type": "code",
      "execution_count": 1,
      "metadata": {
        "id": "qrfd6FzSLrE2"
      },
      "outputs": [],
      "source": [
        "from tensorflow.keras.datasets import mnist\n",
        "from tensorflow.keras.models import Sequential\n",
        "from tensorflow.keras.layers import Dense, Dropout\n",
        "from tensorflow.keras import utils\n",
        "from tensorflow.keras.preprocessing import image\n",
        "from google.colab import files\n",
        "import numpy as np\n",
        "import matplotlib.pyplot as plt\n",
        "from PIL import Image\n",
        "%matplotlib inline\n",
        "from tensorflow.keras.optimizers import Adam, RMSprop"
      ]
    },
    {
      "cell_type": "markdown",
      "metadata": {
        "id": "xiurjCBVMDTG"
      },
      "source": [
        "## Подготовка данных для обучения сети"
      ]
    },
    {
      "cell_type": "markdown",
      "metadata": {
        "id": "1yDF75Cx8VPz"
      },
      "source": [
        "**Загружаем набор данных с рукописными цифрами**"
      ]
    },
    {
      "cell_type": "code",
      "execution_count": 2,
      "metadata": {
        "colab": {
          "base_uri": "https://localhost:8080/"
        },
        "id": "E5L3LUIi8PDV",
        "outputId": "af79f6ec-bb57-41ca-af08-b5515ef0e5de"
      },
      "outputs": [
        {
          "output_type": "stream",
          "name": "stdout",
          "text": [
            "Downloading data from https://storage.googleapis.com/tensorflow/tf-keras-datasets/mnist.npz\n",
            "11493376/11490434 [==============================] - 0s 0us/step\n",
            "11501568/11490434 [==============================] - 0s 0us/step\n"
          ]
        }
      ],
      "source": [
        "# В Keras встроены средства работы с популярными наборами данных\n",
        "# x_train_org - изображения из набора данных для обучения\n",
        "# y_train_org - правильные ответы (метки) к набору данных для обучения\n",
        "# x_test_org - изображения из набора данных для тестирования\n",
        "# y_test_org - правильные ответы (метки) к набору данных для тестирования\n",
        "(x_train_org, y_train_org), (x_test_org, y_test_org) = mnist.load_data()"
      ]
    },
    {
      "cell_type": "code",
      "execution_count": 3,
      "metadata": {
        "colab": {
          "base_uri": "https://localhost:8080/",
          "height": 265
        },
        "id": "ga0DtPJQVkEh",
        "outputId": "d70bc4f4-56c5-44a7-e67c-4b024183bd01"
      },
      "outputs": [
        {
          "output_type": "display_data",
          "data": {
            "image/png": "[encoded data removed]",
            "text/plain": [
              "<Figure size 432x288 with 1 Axes>"
            ]
          },
          "metadata": {
            "needs_background": "light"
          }
        }
      ],
      "source": [
        "n = 5\n",
        "plt.imshow(Image.fromarray(x_test_org[n]).convert('RGBA'))\n",
        "plt.show()"
      ]
    },
    {
      "cell_type": "markdown",
      "metadata": {
        "id": "7uXTnIojJLbl"
      },
      "source": [
        "**Преобразование размерности данных в наборе**"
      ]
    },
    {
      "cell_type": "code",
      "execution_count": 4,
      "metadata": {
        "id": "GBAqLKjGJJ-V"
      },
      "outputs": [],
      "source": [
        "x_train = x_train_org.reshape(60000, 784)\n",
        "x_test = x_test_org.reshape(10000, 784)"
      ]
    },
    {
      "cell_type": "markdown",
      "metadata": {
        "id": "hDaHO5LgJYxU"
      },
      "source": [
        "**Нормализация данных**"
      ]
    },
    {
      "cell_type": "code",
      "execution_count": 5,
      "metadata": {
        "id": "rscaAuBNJdq9"
      },
      "outputs": [],
      "source": [
        "# Векторизованные операции\n",
        "# Применяются к каждому элементу массива отдельно\n",
        "x_train = x_train.astype('float32')\n",
        "x_train = x_train / 255 \n",
        "x_test = x_test.astype('float32')\n",
        "x_test = x_test / 255 "
      ]
    },
    {
      "cell_type": "markdown",
      "metadata": {
        "id": "KRcMlNzqJk1t"
      },
      "source": [
        "**Работа с правильными ответами**"
      ]
    },
    {
      "cell_type": "code",
      "execution_count": 6,
      "metadata": {
        "colab": {
          "base_uri": "https://localhost:8080/"
        },
        "id": "A5lKe_syJqPu",
        "outputId": "3183c8c9-9827-4a4e-ce3a-ac7c3853622c"
      },
      "outputs": [
        {
          "output_type": "stream",
          "name": "stdout",
          "text": [
            "1\n"
          ]
        }
      ],
      "source": [
        "print(y_test_org[n])"
      ]
    },
    {
      "cell_type": "markdown",
      "metadata": {
        "id": "zqJ9GA1kJxBF"
      },
      "source": [
        "**Преобразуем метки в формат one hot encoding**"
      ]
    },
    {
      "cell_type": "code",
      "execution_count": 7,
      "metadata": {
        "id": "zQnasUyyJ3cG"
      },
      "outputs": [],
      "source": [
        "y_train = utils.to_categorical(y_train_org, 10)\n",
        "y_test = utils.to_categorical(y_test_org, 10)"
      ]
    },
    {
      "cell_type": "markdown",
      "metadata": {
        "id": "KfuqlyjHJ_ye"
      },
      "source": [
        "**Правильный ответ в формате one hot encoding**"
      ]
    },
    {
      "cell_type": "code",
      "execution_count": 8,
      "metadata": {
        "colab": {
          "base_uri": "https://localhost:8080/"
        },
        "id": "9zUfd1aeKH3e",
        "outputId": "60aa8b08-bca0-4a47-e9ba-f6490d6c0f9a"
      },
      "outputs": [
        {
          "output_type": "stream",
          "name": "stdout",
          "text": [
            "[0. 1. 0. 0. 0. 0. 0. 0. 0. 0.]\n"
          ]
        }
      ],
      "source": [
        "print(y_test[n])"
      ]
    },
    {
      "cell_type": "markdown",
      "metadata": {
        "id": "BmTr_lXTKNbN"
      },
      "source": [
        "## Создаем нейронную сеть"
      ]
    },
    {
      "cell_type": "markdown",
      "metadata": {
        "id": "fV_igNZuMNXe"
      },
      "source": [
        "**Создаем последовательную модель**"
      ]
    },
    {
      "cell_type": "code",
      "execution_count": 10,
      "metadata": {
        "id": "D-jPYYxIKQkt"
      },
      "outputs": [],
      "source": [
        "model = Sequential()"
      ]
    },
    {
      "cell_type": "markdown",
      "metadata": {
        "id": "Q3QzIVtBMQRG"
      },
      "source": [
        "**Добавляем уровни сети**\n",
        "\n",
        "Архитектуру сети взяли по ссылке - https://en.wikipedia.org/wiki/MNIST_database\n"
      ]
    },
    {
      "cell_type": "code",
      "execution_count": 11,
      "metadata": {
        "id": "kYVSvpNIMSnG"
      },
      "outputs": [],
      "source": [
        "# Входной полносвязный слой, 800 нейронов, 784 входа в каждый нейрон\n",
        "model.add(Dense(800, input_dim=784, activation=\"relu\"))\n",
        "# Выходной полносвязный слой, 10 нейронов (по количеству рукописных цифр)\n",
        "model.add(Dense(10, activation=\"softmax\"))"
      ]
    },
    {
      "cell_type": "markdown",
      "metadata": {
        "id": "G__m76T-KWhd"
      },
      "source": [
        "**Компилируем сеть**"
      ]
    },
    {
      "cell_type": "code",
      "execution_count": 12,
      "metadata": {
        "colab": {
          "base_uri": "https://localhost:8080/"
        },
        "id": "PTcbSxchKZjd",
        "outputId": "2f5c1c75-fb0b-4f86-a877-8ea5f07f703d"
      },
      "outputs": [
        {
          "output_type": "stream",
          "name": "stdout",
          "text": [
            "Model: \"sequential\"\n",
            "_________________________________________________________________\n",
            " Layer (type)                Output Shape              Param #   \n",
            "=================================================================\n",
            " dense (Dense)               (None, 800)               628000    \n",
            "                                                                 \n",
            " dense_1 (Dense)             (None, 10)                8010      \n",
            "                                                                 \n",
            "=================================================================\n",
            "Total params: 636,010\n",
            "Trainable params: 636,010\n",
            "Non-trainable params: 0\n",
            "_________________________________________________________________\n",
            "None\n"
          ]
        }
      ],
      "source": [
        "model.compile(loss=\"categorical_crossentropy\", optimizer=\"adam\", metrics=[\"accuracy\"])\n",
        "\n",
        "print(model.summary())"
      ]
    },
    {
      "cell_type": "markdown",
      "metadata": {
        "id": "lspCHiaCKl72"
      },
      "source": [
        "## Обучаем нейронную сеть"
      ]
    },
    {
      "cell_type": "code",
      "execution_count": 13,
      "metadata": {
        "colab": {
          "base_uri": "https://localhost:8080/"
        },
        "id": "H6EIXu1dKoju",
        "outputId": "fbf40a3c-3f78-493b-ccbf-7f91e6c8a6f0"
      },
      "outputs": [
        {
          "output_type": "stream",
          "name": "stdout",
          "text": [
            "Epoch 1/10\n",
            "300/300 [==============================] - 3s 4ms/step - loss: 0.2780 - accuracy: 0.9208\n",
            "Epoch 2/10\n",
            "300/300 [==============================] - 1s 4ms/step - loss: 0.1080 - accuracy: 0.9688\n",
            "Epoch 3/10\n",
            "300/300 [==============================] - 1s 4ms/step - loss: 0.0698 - accuracy: 0.9802\n",
            "Epoch 4/10\n",
            "300/300 [==============================] - 1s 4ms/step - loss: 0.0499 - accuracy: 0.9857\n",
            "Epoch 5/10\n",
            "300/300 [==============================] - 1s 4ms/step - loss: 0.0357 - accuracy: 0.9897\n",
            "Epoch 6/10\n",
            "300/300 [==============================] - 1s 4ms/step - loss: 0.0269 - accuracy: 0.9927\n",
            "Epoch 7/10\n",
            "300/300 [==============================] - 2s 5ms/step - loss: 0.0193 - accuracy: 0.9952\n",
            "Epoch 8/10\n",
            "300/300 [==============================] - 2s 8ms/step - loss: 0.0142 - accuracy: 0.9969\n",
            "Epoch 9/10\n",
            "300/300 [==============================] - 2s 7ms/step - loss: 0.0105 - accuracy: 0.9975\n",
            "Epoch 10/10\n",
            "300/300 [==============================] - 2s 7ms/step - loss: 0.0078 - accuracy: 0.9987\n"
          ]
        }
      ],
      "source": [
        "history = model.fit(x_train, \n",
        "                    y_train, \n",
        "                    batch_size=200, \n",
        "                    epochs=10,\n",
        "                    verbose=1)"
      ]
    },
    {
      "cell_type": "markdown",
      "metadata": {
        "id": "DzcAzNp5kz6q"
      },
      "source": [
        "## Проверяем качество обучения на тестовом наборе данных"
      ]
    },
    {
      "cell_type": "code",
      "execution_count": 14,
      "metadata": {
        "colab": {
          "base_uri": "https://localhost:8080/"
        },
        "id": "ZOymJgu_k7Fy",
        "outputId": "440b8212-b11f-409e-97b5-0cf02f75e1fc"
      },
      "outputs": [
        {
          "output_type": "stream",
          "name": "stdout",
          "text": [
            "313/313 [==============================] - 1s 3ms/step - loss: 0.0630 - accuracy: 0.9821\n"
          ]
        }
      ],
      "source": [
        "scores = model.evaluate(x_test, y_test, verbose=1)"
      ]
    },
    {
      "cell_type": "code",
      "execution_count": 15,
      "metadata": {
        "colab": {
          "base_uri": "https://localhost:8080/"
        },
        "id": "iRwMRJn9l1V7",
        "outputId": "57e8ce73-4c3a-48d4-dd69-565abf4bdc44"
      },
      "outputs": [
        {
          "output_type": "execute_result",
          "data": {
            "text/plain": [
              "[0.06297782063484192, 0.9821000099182129]"
            ]
          },
          "metadata": {},
          "execution_count": 15
        }
      ],
      "source": [
        "scores"
      ]
    },
    {
      "cell_type": "code",
      "execution_count": 16,
      "metadata": {
        "colab": {
          "base_uri": "https://localhost:8080/"
        },
        "id": "eiCP0or9l4Cp",
        "outputId": "f91139bc-31cc-4b25-e806-4ea7d9f61589"
      },
      "outputs": [
        {
          "output_type": "stream",
          "name": "stdout",
          "text": [
            "Доля верных ответов на тестовых данных, в процентах: 98.21%\n"
          ]
        }
      ],
      "source": [
        "print(\"Доля верных ответов на тестовых данных, в процентах: \", round(scores[1] * 100, 4), \"%\", sep=\"\")"
      ]
    },
    {
      "cell_type": "markdown",
      "metadata": {
        "id": "8CsXpvtBvpIJ"
      },
      "source": [
        "#Проверочная выборка"
      ]
    },
    {
      "cell_type": "code",
      "execution_count": 17,
      "metadata": {
        "colab": {
          "base_uri": "https://localhost:8080/"
        },
        "id": "Plh0I1kPvso9",
        "outputId": "71ecd194-821d-4cdf-cee8-481c872c735e"
      },
      "outputs": [
        {
          "output_type": "stream",
          "name": "stdout",
          "text": [
            "Epoch 1/10\n",
            "240/240 [==============================] - 1s 5ms/step - loss: 0.4991 - accuracy: 0.8678 - val_loss: 0.2512 - val_accuracy: 0.9320\n",
            "Epoch 2/10\n",
            "240/240 [==============================] - 1s 4ms/step - loss: 0.2267 - accuracy: 0.9375 - val_loss: 0.1943 - val_accuracy: 0.9465\n",
            "Epoch 3/10\n",
            "240/240 [==============================] - 1s 4ms/step - loss: 0.1705 - accuracy: 0.9519 - val_loss: 0.1603 - val_accuracy: 0.9554\n",
            "Epoch 4/10\n",
            "240/240 [==============================] - 1s 4ms/step - loss: 0.1380 - accuracy: 0.9609 - val_loss: 0.1408 - val_accuracy: 0.9607\n",
            "Epoch 5/10\n",
            "240/240 [==============================] - 1s 4ms/step - loss: 0.1149 - accuracy: 0.9674 - val_loss: 0.1275 - val_accuracy: 0.9650\n",
            "Epoch 6/10\n",
            "240/240 [==============================] - 1s 4ms/step - loss: 0.0989 - accuracy: 0.9718 - val_loss: 0.1190 - val_accuracy: 0.9668\n",
            "Epoch 7/10\n",
            "240/240 [==============================] - 1s 4ms/step - loss: 0.0864 - accuracy: 0.9750 - val_loss: 0.1129 - val_accuracy: 0.9674\n",
            "Epoch 8/10\n",
            "240/240 [==============================] - 1s 4ms/step - loss: 0.0756 - accuracy: 0.9782 - val_loss: 0.1079 - val_accuracy: 0.9693\n",
            "Epoch 9/10\n",
            "240/240 [==============================] - 1s 4ms/step - loss: 0.0676 - accuracy: 0.9809 - val_loss: 0.1026 - val_accuracy: 0.9695\n",
            "Epoch 10/10\n",
            "240/240 [==============================] - 1s 4ms/step - loss: 0.0603 - accuracy: 0.9828 - val_loss: 0.1025 - val_accuracy: 0.9699\n"
          ]
        }
      ],
      "source": [
        "model = Sequential()\n",
        "\n",
        "# Входной полносвязный слой, 800 нейронов, 784 входа в каждый нейрон\n",
        "model.add(Dense(100, input_dim=784, activation=\"relu\"))\n",
        "# Выходной полносвязный слой, 10 нейронов (по количеству рукописных цифр)\n",
        "model.add(Dense(10, activation=\"softmax\"))\n",
        "\n",
        "model.compile(loss=\"categorical_crossentropy\", optimizer=\"adam\", metrics=[\"accuracy\"])\n",
        "\n",
        "history = model.fit(x_train, \n",
        "                    y_train, \n",
        "                    batch_size=200, \n",
        "                    epochs=10,\n",
        "                    validation_split=0.2,\n",
        "                    verbose=1)"
      ]
    },
    {
      "cell_type": "code",
      "execution_count": 18,
      "metadata": {
        "colab": {
          "base_uri": "https://localhost:8080/"
        },
        "id": "CgNsTmBbvuck",
        "outputId": "6b308aa6-f00b-438f-a718-79d16822972a"
      },
      "outputs": [
        {
          "output_type": "stream",
          "name": "stdout",
          "text": [
            "Epoch 1/10\n",
            "200/200 [==============================] - 2s 7ms/step - loss: 0.3341 - accuracy: 0.9063 - val_loss: 0.1934 - val_accuracy: 0.9434\n",
            "Epoch 2/10\n",
            "200/200 [==============================] - 1s 6ms/step - loss: 0.1344 - accuracy: 0.9613 - val_loss: 0.1355 - val_accuracy: 0.9601\n",
            "Epoch 3/10\n",
            "200/200 [==============================] - 1s 5ms/step - loss: 0.0872 - accuracy: 0.9750 - val_loss: 0.1111 - val_accuracy: 0.9666\n",
            "Epoch 4/10\n",
            "200/200 [==============================] - 1s 5ms/step - loss: 0.0617 - accuracy: 0.9821 - val_loss: 0.1015 - val_accuracy: 0.9707\n",
            "Epoch 5/10\n",
            "200/200 [==============================] - 1s 6ms/step - loss: 0.0452 - accuracy: 0.9877 - val_loss: 0.0924 - val_accuracy: 0.9729\n",
            "Epoch 6/10\n",
            "200/200 [==============================] - 1s 5ms/step - loss: 0.0337 - accuracy: 0.9912 - val_loss: 0.0876 - val_accuracy: 0.9740\n",
            "Epoch 7/10\n",
            "200/200 [==============================] - 1s 5ms/step - loss: 0.0230 - accuracy: 0.9949 - val_loss: 0.0841 - val_accuracy: 0.9744\n",
            "Epoch 8/10\n",
            "200/200 [==============================] - 1s 5ms/step - loss: 0.0190 - accuracy: 0.9959 - val_loss: 0.0857 - val_accuracy: 0.9745\n",
            "Epoch 9/10\n",
            "200/200 [==============================] - 1s 5ms/step - loss: 0.0134 - accuracy: 0.9975 - val_loss: 0.0851 - val_accuracy: 0.9748\n",
            "Epoch 10/10\n",
            "200/200 [==============================] - 1s 5ms/step - loss: 0.0101 - accuracy: 0.9985 - val_loss: 0.0834 - val_accuracy: 0.9762\n"
          ]
        }
      ],
      "source": [
        "model = Sequential()\n",
        "\n",
        "# Входной полносвязный слой, 800 нейронов, 784 входа в каждый нейрон\n",
        "model.add(Dense(800, input_dim=784, activation=\"relu\"))\n",
        "# Выходной полносвязный слой, 10 нейронов (по количеству рукописных цифр)\n",
        "model.add(Dense(10, activation=\"softmax\"))\n",
        "\n",
        "model.compile(loss=\"categorical_crossentropy\", optimizer=\"adam\", metrics=[\"accuracy\"])\n",
        "\n",
        "nVal = 40000\n",
        "\n",
        "history = model.fit(x_train[:nVal], \n",
        "                    y_train[:nVal], \n",
        "                    batch_size=200, \n",
        "                    epochs=10,\n",
        "                    validation_data=(x_train[nVal:], y_train[nVal:]),\n",
        "                    verbose=1)"
      ]
    },
    {
      "cell_type": "markdown",
      "metadata": {
        "id": "wYhse8xmmdS5"
      },
      "source": [
        "## Визуализация качества обучения\n"
      ]
    },
    {
      "cell_type": "markdown",
      "metadata": {
        "id": "qcW4fHR3m7EN"
      },
      "source": [
        "Состав словаря History"
      ]
    },
    {
      "cell_type": "code",
      "execution_count": 19,
      "metadata": {
        "colab": {
          "base_uri": "https://localhost:8080/"
        },
        "id": "V3jp7JG5m9z-",
        "outputId": "e189eed3-0837-42de-8558-dd98e70bd390"
      },
      "outputs": [
        {
          "output_type": "stream",
          "name": "stdout",
          "text": [
            "dict_keys(['loss', 'accuracy', 'val_loss', 'val_accuracy'])\n"
          ]
        }
      ],
      "source": [
        "print(history.history.keys())"
      ]
    },
    {
      "cell_type": "markdown",
      "metadata": {
        "id": "sKzHMBi6507f"
      },
      "source": [
        "Печатаем значения ошибки на обучающем наборе данных"
      ]
    },
    {
      "cell_type": "code",
      "execution_count": 20,
      "metadata": {
        "colab": {
          "base_uri": "https://localhost:8080/"
        },
        "id": "5LIOJULboAcG",
        "outputId": "34d912ce-0058-4513-8b87-7f4d7791a9d7"
      },
      "outputs": [
        {
          "output_type": "execute_result",
          "data": {
            "text/plain": [
              "[0.33411744236946106,\n",
              " 0.1344173550605774,\n",
              " 0.08717598766088486,\n",
              " 0.06166338548064232,\n",
              " 0.04522345960140228,\n",
              " 0.0336640439927578,\n",
              " 0.023030590265989304,\n",
              " 0.019020497798919678,\n",
              " 0.013445256277918816,\n",
              " 0.010063252411782742]"
            ]
          },
          "metadata": {},
          "execution_count": 20
        }
      ],
      "source": [
        "history.history['loss']"
      ]
    },
    {
      "cell_type": "markdown",
      "metadata": {
        "id": "LzcHkPZAoZMD"
      },
      "source": [
        "Печатаем долю неверных ответов на проверочном наборе данных"
      ]
    },
    {
      "cell_type": "code",
      "execution_count": 21,
      "metadata": {
        "colab": {
          "base_uri": "https://localhost:8080/",
          "height": 283
        },
        "id": "-UOcvkr62Z6p",
        "outputId": "a7a8ac7b-e7e7-46de-cb66-d694e0958306"
      },
      "outputs": [
        {
          "output_type": "display_data",
          "data": {
            "image/png": "[encoded data removed]",
            "text/plain": [
              "<Figure size 432x288 with 1 Axes>"
            ]
          },
          "metadata": {
            "needs_background": "light"
          }
        }
      ],
      "source": [
        "plt.plot(history.history['loss'], \n",
        "         label='Ошибка на обучающем наборе')\n",
        "plt.plot(history.history['val_loss'], \n",
        "         label='Ошибка на проверочном наборе')\n",
        "plt.xlabel('Эпоха обучения')\n",
        "plt.ylabel('Ошибка')\n",
        "plt.legend()\n",
        "plt.show()"
      ]
    },
    {
      "cell_type": "markdown",
      "metadata": {
        "id": "ERps5ER1cgpf"
      },
      "source": [
        "#Переобучение\n",
        "**Без Dropout**"
      ]
    },
    {
      "cell_type": "code",
      "execution_count": 22,
      "metadata": {
        "colab": {
          "base_uri": "https://localhost:8080/",
          "height": 681
        },
        "id": "wRUJID5zclEJ",
        "outputId": "e17b30c4-a9dd-4419-c265-a1f1190a3e4b"
      },
      "outputs": [
        {
          "output_type": "stream",
          "name": "stderr",
          "text": [
            "/usr/local/lib/python3.7/dist-packages/keras/optimizer_v2/adam.py:105: UserWarning: The `lr` argument is deprecated, use `learning_rate` instead.\n",
            "  super(Adam, self).__init__(name, **kwargs)\n"
          ]
        },
        {
          "output_type": "stream",
          "name": "stdout",
          "text": [
            "Epoch 1/10\n",
            "1/1 [==============================] - 2s 2s/step - loss: 2.3744 - accuracy: 0.0500 - val_loss: 54.0112 - val_accuracy: 0.3165\n",
            "Epoch 2/10\n",
            "1/1 [==============================] - 1s 870ms/step - loss: 35.3606 - accuracy: 0.4600 - val_loss: 56.9282 - val_accuracy: 0.2015\n",
            "Epoch 3/10\n",
            "1/1 [==============================] - 1s 869ms/step - loss: 51.9848 - accuracy: 0.3300 - val_loss: 40.8131 - val_accuracy: 0.2998\n",
            "Epoch 4/10\n",
            "1/1 [==============================] - 1s 869ms/step - loss: 40.8434 - accuracy: 0.4500 - val_loss: 27.3987 - val_accuracy: 0.2393\n",
            "Epoch 5/10\n",
            "1/1 [==============================] - 1s 1s/step - loss: 23.7033 - accuracy: 0.3700 - val_loss: 6.4819 - val_accuracy: 0.4669\n",
            "Epoch 6/10\n",
            "1/1 [==============================] - 1s 877ms/step - loss: 3.4092 - accuracy: 0.6900 - val_loss: 14.4932 - val_accuracy: 0.3844\n",
            "Epoch 7/10\n",
            "1/1 [==============================] - 1s 1s/step - loss: 4.8918 - accuracy: 0.6200 - val_loss: 12.9623 - val_accuracy: 0.4509\n",
            "Epoch 8/10\n",
            "1/1 [==============================] - 1s 1s/step - loss: 3.3310 - accuracy: 0.7800 - val_loss: 9.5866 - val_accuracy: 0.5337\n",
            "Epoch 9/10\n",
            "1/1 [==============================] - 1s 865ms/step - loss: 1.3889 - accuracy: 0.8000 - val_loss: 7.7831 - val_accuracy: 0.6049\n",
            "Epoch 10/10\n",
            "1/1 [==============================] - 1s 1s/step - loss: 0.5166 - accuracy: 0.9300 - val_loss: 7.7542 - val_accuracy: 0.6179\n"
          ]
        },
        {
          "output_type": "display_data",
          "data": {
            "image/png": "[encoded data removed]",
            "text/plain": [
              "<Figure size 432x288 with 1 Axes>"
            ]
          },
          "metadata": {
            "needs_background": "light"
          }
        }
      ],
      "source": [
        "model = Sequential()\n",
        "\n",
        "# Входной полносвязный слой, 800 нейронов, 784 входа в каждый нейрон\n",
        "model.add(Dense(400, input_dim=784, activation=\"relu\"))\n",
        "# Выходной полносвязный слой, 10 нейронов (по количеству рукописных цифр)\n",
        "model.add(Dense(10, activation=\"softmax\"))\n",
        "\n",
        "model.compile(loss=\"categorical_crossentropy\", optimizer=Adam(lr=1e-1), metrics=[\"accuracy\"])\n",
        "\n",
        "nVal = 100\n",
        "\n",
        "history = model.fit(x_train[:nVal], \n",
        "                    y_train[:nVal], \n",
        "                    batch_size=200, \n",
        "                    epochs=10,\n",
        "                    validation_data=(x_train[nVal:], y_train[nVal:]),\n",
        "                    verbose=1)\n",
        "\n",
        "plt.plot(history.history['accuracy'], \n",
        "         label='Доля верных ответов на обучающем наборе')\n",
        "plt.plot(history.history['val_accuracy'], \n",
        "         label='Доля верных ответов на проверочном наборе')\n",
        "plt.xlabel('Эпоха обучения')\n",
        "plt.ylabel('Доля верных ответов')\n",
        "plt.legend()\n",
        "plt.show()"
      ]
    },
    {
      "cell_type": "markdown",
      "metadata": {
        "id": "4gZyG8hD3ZWM"
      },
      "source": [
        "**Dropout 30%**"
      ]
    },
    {
      "cell_type": "code",
      "execution_count": 23,
      "metadata": {
        "colab": {
          "base_uri": "https://localhost:8080/",
          "height": 681
        },
        "id": "1cL1-VKkdmuq",
        "outputId": "9ca71f71-ea65-4aba-802e-cea80bba26ae"
      },
      "outputs": [
        {
          "output_type": "stream",
          "name": "stderr",
          "text": [
            "/usr/local/lib/python3.7/dist-packages/keras/optimizer_v2/adam.py:105: UserWarning: The `lr` argument is deprecated, use `learning_rate` instead.\n",
            "  super(Adam, self).__init__(name, **kwargs)\n"
          ]
        },
        {
          "output_type": "stream",
          "name": "stdout",
          "text": [
            "Epoch 1/10\n",
            "1/1 [==============================] - 2s 2s/step - loss: 2.2520 - accuracy: 0.1800 - val_loss: 27.7385 - val_accuracy: 0.2230\n",
            "Epoch 2/10\n",
            "1/1 [==============================] - 1s 879ms/step - loss: 18.9719 - accuracy: 0.3100 - val_loss: 48.5903 - val_accuracy: 0.3785\n",
            "Epoch 3/10\n",
            "1/1 [==============================] - 1s 1s/step - loss: 49.4022 - accuracy: 0.4800 - val_loss: 43.7029 - val_accuracy: 0.4384\n",
            "Epoch 4/10\n",
            "1/1 [==============================] - 1s 883ms/step - loss: 39.1962 - accuracy: 0.5100 - val_loss: 31.1144 - val_accuracy: 0.4041\n",
            "Epoch 5/10\n",
            "1/1 [==============================] - 1s 862ms/step - loss: 18.1212 - accuracy: 0.6300 - val_loss: 19.9159 - val_accuracy: 0.3655\n",
            "Epoch 6/10\n",
            "1/1 [==============================] - 1s 861ms/step - loss: 8.2516 - accuracy: 0.6200 - val_loss: 9.1768 - val_accuracy: 0.5350\n",
            "Epoch 7/10\n",
            "1/1 [==============================] - 1s 1s/step - loss: 1.5401 - accuracy: 0.8600 - val_loss: 10.1986 - val_accuracy: 0.5234\n",
            "Epoch 8/10\n",
            "1/1 [==============================] - 1s 894ms/step - loss: 2.2118 - accuracy: 0.7900 - val_loss: 7.8132 - val_accuracy: 0.5660\n",
            "Epoch 9/10\n",
            "1/1 [==============================] - 1s 853ms/step - loss: 1.8180 - accuracy: 0.8000 - val_loss: 5.8747 - val_accuracy: 0.6186\n",
            "Epoch 10/10\n",
            "1/1 [==============================] - 1s 1s/step - loss: 0.7822 - accuracy: 0.8800 - val_loss: 5.6281 - val_accuracy: 0.6260\n"
          ]
        },
        {
          "output_type": "display_data",
          "data": {
            "image/png": "[encoded data removed]",
            "text/plain": [
              "<Figure size 432x288 with 1 Axes>"
            ]
          },
          "metadata": {
            "needs_background": "light"
          }
        }
      ],
      "source": [
        "model = Sequential()\n",
        "\n",
        "# Входной полносвязный слой, 800 нейронов, 784 входа в каждый нейрон\n",
        "model.add(Dense(400, input_dim=784, activation=\"relu\"))\n",
        "model.add(Dropout(0.3))\n",
        "# Выходной полносвязный слой, 10 нейронов (по количеству рукописных цифр)\n",
        "model.add(Dense(10, activation=\"softmax\"))\n",
        "\n",
        "model.compile(loss=\"categorical_crossentropy\", optimizer=Adam(lr=1e-1), metrics=[\"accuracy\"])\n",
        "\n",
        "nVal = 100\n",
        "\n",
        "history = model.fit(x_train[:nVal], \n",
        "                    y_train[:nVal], \n",
        "                    batch_size=200, \n",
        "                    epochs=10,\n",
        "                    validation_data=(x_train[nVal:], y_train[nVal:]),\n",
        "                    verbose=1)\n",
        "\n",
        "plt.plot(history.history['accuracy'], \n",
        "         label='Доля верных ответов на обучающем наборе')\n",
        "plt.plot(history.history['val_accuracy'], \n",
        "         label='Доля верных ответов на проверочном наборе')\n",
        "plt.xlabel('Эпоха обучения')\n",
        "plt.ylabel('Доля верных ответов')\n",
        "plt.legend()\n",
        "plt.show()"
      ]
    },
    {
      "cell_type": "markdown",
      "metadata": {
        "id": "mzP1Cl1S3d1D"
      },
      "source": [
        "**Dropout 80%**"
      ]
    },
    {
      "cell_type": "code",
      "execution_count": 24,
      "metadata": {
        "colab": {
          "base_uri": "https://localhost:8080/",
          "height": 681
        },
        "id": "4-8FRn0b2l9a",
        "outputId": "21125564-633d-4246-babd-2899d5b4ce76"
      },
      "outputs": [
        {
          "output_type": "stream",
          "name": "stderr",
          "text": [
            "/usr/local/lib/python3.7/dist-packages/keras/optimizer_v2/adam.py:105: UserWarning: The `lr` argument is deprecated, use `learning_rate` instead.\n",
            "  super(Adam, self).__init__(name, **kwargs)\n"
          ]
        },
        {
          "output_type": "stream",
          "name": "stdout",
          "text": [
            "Epoch 1/10\n",
            "1/1 [==============================] - 2s 2s/step - loss: 2.6600 - accuracy: 0.0800 - val_loss: 23.8135 - val_accuracy: 0.2139\n",
            "Epoch 2/10\n",
            "1/1 [==============================] - 1s 887ms/step - loss: 28.9695 - accuracy: 0.2900 - val_loss: 43.0802 - val_accuracy: 0.2021\n",
            "Epoch 3/10\n",
            "1/1 [==============================] - 1s 895ms/step - loss: 42.7614 - accuracy: 0.3000 - val_loss: 22.9218 - val_accuracy: 0.2862\n",
            "Epoch 4/10\n",
            "1/1 [==============================] - 1s 1s/step - loss: 31.5114 - accuracy: 0.3000 - val_loss: 11.7404 - val_accuracy: 0.3805\n",
            "Epoch 5/10\n",
            "1/1 [==============================] - 1s 876ms/step - loss: 18.8809 - accuracy: 0.4200 - val_loss: 11.7754 - val_accuracy: 0.4713\n",
            "Epoch 6/10\n",
            "1/1 [==============================] - 1s 896ms/step - loss: 10.0838 - accuracy: 0.6100 - val_loss: 10.2005 - val_accuracy: 0.5185\n",
            "Epoch 7/10\n",
            "1/1 [==============================] - 1s 872ms/step - loss: 7.4785 - accuracy: 0.5500 - val_loss: 8.9290 - val_accuracy: 0.5442\n",
            "Epoch 8/10\n",
            "1/1 [==============================] - 1s 1s/step - loss: 7.8276 - accuracy: 0.5800 - val_loss: 7.0676 - val_accuracy: 0.5751\n",
            "Epoch 9/10\n",
            "1/1 [==============================] - 1s 1s/step - loss: 4.5472 - accuracy: 0.6300 - val_loss: 6.0332 - val_accuracy: 0.5791\n",
            "Epoch 10/10\n",
            "1/1 [==============================] - 1s 872ms/step - loss: 4.1961 - accuracy: 0.6600 - val_loss: 5.6879 - val_accuracy: 0.5728\n"
          ]
        },
        {
          "output_type": "display_data",
          "data": {
            "image/png": "[encoded data removed]",
            "text/plain": [
              "<Figure size 432x288 with 1 Axes>"
            ]
          },
          "metadata": {
            "needs_background": "light"
          }
        }
      ],
      "source": [
        "model = Sequential()\n",
        "\n",
        "# Входной полносвязный слой, 800 нейронов, 784 входа в каждый нейрон\n",
        "model.add(Dense(400, input_dim=784, activation=\"relu\"))\n",
        "model.add(Dropout(0.8))\n",
        "# Выходной полносвязный слой, 10 нейронов (по количеству рукописных цифр)\n",
        "model.add(Dense(10, activation=\"softmax\"))\n",
        "\n",
        "model.compile(loss=\"categorical_crossentropy\", optimizer=Adam(lr=1e-1), metrics=[\"accuracy\"])\n",
        "\n",
        "nVal = 100\n",
        "\n",
        "history = model.fit(x_train[:nVal], \n",
        "                    y_train[:nVal], \n",
        "                    batch_size=200, \n",
        "                    epochs=10,\n",
        "                    validation_data=(x_train[nVal:], y_train[nVal:]),\n",
        "                    verbose=1)\n",
        "\n",
        "plt.plot(history.history['accuracy'], \n",
        "         label='Доля верных ответов на обучающем наборе')\n",
        "plt.plot(history.history['val_accuracy'], \n",
        "         label='Доля верных ответов на проверочном наборе')\n",
        "plt.xlabel('Эпоха обучения')\n",
        "plt.ylabel('Доля верных ответов')\n",
        "plt.legend()\n",
        "plt.show()"
      ]
    },
    {
      "cell_type": "markdown",
      "metadata": {
        "id": "4BICqzKS3f7E"
      },
      "source": [
        "**Dropout 10%**"
      ]
    },
    {
      "cell_type": "code",
      "execution_count": 25,
      "metadata": {
        "colab": {
          "base_uri": "https://localhost:8080/",
          "height": 681
        },
        "id": "ljkSN6483GEA",
        "outputId": "e3d98a10-aac6-4ac5-fdb5-d8e4de5921f5"
      },
      "outputs": [
        {
          "output_type": "stream",
          "name": "stderr",
          "text": [
            "/usr/local/lib/python3.7/dist-packages/keras/optimizer_v2/adam.py:105: UserWarning: The `lr` argument is deprecated, use `learning_rate` instead.\n",
            "  super(Adam, self).__init__(name, **kwargs)\n"
          ]
        },
        {
          "output_type": "stream",
          "name": "stdout",
          "text": [
            "Epoch 1/10\n",
            "1/1 [==============================] - 2s 2s/step - loss: 2.3394 - accuracy: 0.1100 - val_loss: 34.9408 - val_accuracy: 0.3363\n",
            "Epoch 2/10\n",
            "1/1 [==============================] - 1s 869ms/step - loss: 20.5114 - accuracy: 0.4500 - val_loss: 56.3659 - val_accuracy: 0.2821\n",
            "Epoch 3/10\n",
            "1/1 [==============================] - 1s 863ms/step - loss: 53.2111 - accuracy: 0.3500 - val_loss: 39.1623 - val_accuracy: 0.3605\n",
            "Epoch 4/10\n",
            "1/1 [==============================] - 1s 1s/step - loss: 30.8099 - accuracy: 0.4500 - val_loss: 29.4296 - val_accuracy: 0.3415\n",
            "Epoch 5/10\n",
            "1/1 [==============================] - 1s 886ms/step - loss: 16.2683 - accuracy: 0.5800 - val_loss: 14.8756 - val_accuracy: 0.4776\n",
            "Epoch 6/10\n",
            "1/1 [==============================] - 1s 880ms/step - loss: 6.2372 - accuracy: 0.6900 - val_loss: 15.7214 - val_accuracy: 0.5100\n",
            "Epoch 7/10\n",
            "1/1 [==============================] - 1s 861ms/step - loss: 3.1016 - accuracy: 0.7800 - val_loss: 13.6364 - val_accuracy: 0.5322\n",
            "Epoch 8/10\n",
            "1/1 [==============================] - 1s 1s/step - loss: 1.6170 - accuracy: 0.8300 - val_loss: 9.1122 - val_accuracy: 0.5962\n",
            "Epoch 9/10\n",
            "1/1 [==============================] - 1s 1s/step - loss: 0.2543 - accuracy: 0.9000 - val_loss: 7.2831 - val_accuracy: 0.6170\n",
            "Epoch 10/10\n",
            "1/1 [==============================] - 1s 871ms/step - loss: 0.3159 - accuracy: 0.9100 - val_loss: 6.6778 - val_accuracy: 0.6204\n"
          ]
        },
        {
          "output_type": "display_data",
          "data": {
            "image/png": "[encoded data removed]",
            "text/plain": [
              "<Figure size 432x288 with 1 Axes>"
            ]
          },
          "metadata": {
            "needs_background": "light"
          }
        }
      ],
      "source": [
        "model = Sequential()\n",
        "\n",
        "# Входной полносвязный слой, 800 нейронов, 784 входа в каждый нейрон\n",
        "model.add(Dense(400, input_dim=784, activation=\"relu\"))\n",
        "model.add(Dropout(0.1))\n",
        "# Выходной полносвязный слой, 10 нейронов (по количеству рукописных цифр)\n",
        "model.add(Dense(10, activation=\"softmax\"))\n",
        "\n",
        "model.compile(loss=\"categorical_crossentropy\", optimizer=Adam(lr=1e-1), metrics=[\"accuracy\"])\n",
        "\n",
        "nVal = 100\n",
        "\n",
        "history = model.fit(x_train[:nVal], \n",
        "                    y_train[:nVal], \n",
        "                    batch_size=200, \n",
        "                    epochs=10,\n",
        "                    validation_data=(x_train[nVal:], y_train[nVal:]),\n",
        "                    verbose=1)\n",
        "\n",
        "plt.plot(history.history['accuracy'], \n",
        "         label='Доля верных ответов на обучающем наборе')\n",
        "plt.plot(history.history['val_accuracy'], \n",
        "         label='Доля верных ответов на проверочном наборе')\n",
        "plt.xlabel('Эпоха обучения')\n",
        "plt.ylabel('Доля верных ответов')\n",
        "plt.legend()\n",
        "plt.show()"
      ]
    },
    {
      "cell_type": "markdown",
      "metadata": {
        "id": "5MTw1fSghae9"
      },
      "source": [
        "#Активационные функции"
      ]
    },
    {
      "cell_type": "code",
      "execution_count": 33,
      "metadata": {
        "colab": {
          "base_uri": "https://localhost:8080/",
          "height": 628
        },
        "id": "pZL3AZI8he9t",
        "outputId": "0c25317a-d94b-4085-c657-9e66b945125d"
      },
      "outputs": [
        {
          "output_type": "stream",
          "name": "stdout",
          "text": [
            "Epoch 1/10\n",
            "240/240 [==============================] - 3s 10ms/step - loss: 1.9850 - accuracy: 0.6694 - val_loss: 1.7029 - val_accuracy: 0.8217\n",
            "Epoch 2/10\n",
            "240/240 [==============================] - 1s 4ms/step - loss: 1.5208 - accuracy: 0.8716 - val_loss: 1.3398 - val_accuracy: 0.9072\n",
            "Epoch 3/10\n",
            "240/240 [==============================] - 1s 4ms/step - loss: 1.2031 - accuracy: 0.9089 - val_loss: 1.0611 - val_accuracy: 0.9193\n",
            "Epoch 4/10\n",
            "240/240 [==============================] - 1s 5ms/step - loss: 0.9604 - accuracy: 0.9202 - val_loss: 0.8527 - val_accuracy: 0.9257\n",
            "Epoch 5/10\n",
            "240/240 [==============================] - 1s 4ms/step - loss: 0.7797 - accuracy: 0.9258 - val_loss: 0.6998 - val_accuracy: 0.9295\n",
            "Epoch 6/10\n",
            "240/240 [==============================] - 1s 4ms/step - loss: 0.6473 - accuracy: 0.9293 - val_loss: 0.5885 - val_accuracy: 0.9321\n",
            "Epoch 7/10\n",
            "240/240 [==============================] - 1s 4ms/step - loss: 0.5497 - accuracy: 0.9334 - val_loss: 0.5073 - val_accuracy: 0.9336\n",
            "Epoch 8/10\n",
            "240/240 [==============================] - 1s 4ms/step - loss: 0.4768 - accuracy: 0.9365 - val_loss: 0.4473 - val_accuracy: 0.9359\n",
            "Epoch 9/10\n",
            "240/240 [==============================] - 1s 4ms/step - loss: 0.4226 - accuracy: 0.9389 - val_loss: 0.4018 - val_accuracy: 0.9373\n",
            "Epoch 10/10\n",
            "240/240 [==============================] - 1s 4ms/step - loss: 0.3804 - accuracy: 0.9402 - val_loss: 0.3688 - val_accuracy: 0.9375\n"
          ]
        },
        {
          "output_type": "display_data",
          "data": {
            "image/png": "[encoded data removed]",
            "text/plain": [
              "<Figure size 432x288 with 1 Axes>"
            ]
          },
          "metadata": {
            "needs_background": "light"
          }
        }
      ],
      "source": [
        "model = Sequential()\n",
        "\n",
        "# Входной полносвязный слой, 800 нейронов, 784 входа в каждый нейрон\n",
        "model.add(Dense(100, input_dim=784, activation=\"softmax\"))\n",
        "#model.add(Dropout(0.2))\n",
        "# Выходной полносвязный слой, 10 нейронов (по количеству рукописных цифр)\n",
        "model.add(Dense(10, activation=\"softmax\"))\n",
        "\n",
        "model.compile(loss=\"categorical_crossentropy\", optimizer=\"adam\", metrics=[\"accuracy\"])\n",
        "\n",
        "history = model.fit(x_train, \n",
        "                    y_train, \n",
        "                    batch_size=200, \n",
        "                    epochs=10,\n",
        "                    validation_split=0.2,\n",
        "                    verbose=1)\n",
        "\n",
        "plt.plot(history.history['accuracy'], \n",
        "         label='Доля верных ответов на обучающем наборе')\n",
        "plt.plot(history.history['val_accuracy'], \n",
        "         label='Доля верных ответов на проверочном наборе')\n",
        "plt.xlabel('Эпоха обучения')\n",
        "plt.ylabel('Доля верных ответов')\n",
        "plt.legend()\n",
        "plt.show()"
      ]
    },
    {
      "cell_type": "markdown",
      "metadata": {
        "id": "W9N493xVkjTJ"
      },
      "source": [
        "#Усреднение точности сети по нескольким итерациям"
      ]
    },
    {
      "cell_type": "code",
      "execution_count": 34,
      "metadata": {
        "colab": {
          "base_uri": "https://localhost:8080/"
        },
        "id": "aW67cIqHkoOy",
        "outputId": "49f75180-7a95-427f-8886-7858e97e7816"
      },
      "outputs": [
        {
          "output_type": "stream",
          "name": "stdout",
          "text": [
            "Запуск 0 точность 0.9145833253860474\n",
            "Запуск 1 точность 0.9255833625793457\n",
            "Запуск 2 точность 0.9236666560173035\n",
            "Запуск 3 точность 0.9230833053588867\n",
            "Запуск 4 точность 0.918916642665863\n",
            "Запуск 5 точность 0.9226666688919067\n",
            "Запуск 6 точность 0.9175000190734863\n",
            "Запуск 7 точность 0.922249972820282\n",
            "Запуск 8 точность 0.9258333444595337\n",
            "Запуск 9 точность 0.9175000190734863\n"
          ]
        }
      ],
      "source": [
        "valAcc = []\n",
        "iterations = 10\n",
        "\n",
        "for i in range(iterations):\n",
        "  model = Sequential()\n",
        "\n",
        "  # Входной полносвязный слой, 800 нейронов, 784 входа в каждый нейрон\n",
        "  model.add(Dense(10, input_dim=784, activation=\"relu\"))\n",
        "  #model.add(Dropout(0.2))\n",
        "  # Выходной полносвязный слой, 10 нейронов (по количеству рукописных цифр)\n",
        "  model.add(Dense(10, activation=\"softmax\"))\n",
        "\n",
        "  model.compile(loss=\"categorical_crossentropy\", optimizer=\"adam\", metrics=[\"accuracy\"])\n",
        "\n",
        "  history = model.fit(x_train, \n",
        "                      y_train, \n",
        "                      batch_size=200, \n",
        "                      epochs=5,\n",
        "                      validation_split=0.2,\n",
        "                      verbose=0)\n",
        "  \n",
        "  currAcc = history.history['val_accuracy'][-1]\n",
        "  valAcc.append(currAcc)\n",
        "  print(\"Запуск\", i, \"точность\", currAcc)\n",
        "  "
      ]
    },
    {
      "cell_type": "code",
      "execution_count": 35,
      "metadata": {
        "colab": {
          "base_uri": "https://localhost:8080/"
        },
        "id": "P6FsPq6hlfJj",
        "outputId": "7aa4e77d-0707-4d6e-fa6f-ac1162257492"
      },
      "outputs": [
        {
          "output_type": "stream",
          "name": "stdout",
          "text": [
            "0.9211583316326142\n",
            "0.011250019073486328\n"
          ]
        }
      ],
      "source": [
        "valAcc = np.array(valAcc)\n",
        "meanAcc = sum(valAcc) / valAcc.shape[0]\n",
        "print(meanAcc)\n",
        "print(max(valAcc) - min(valAcc))"
      ]
    },
    {
      "cell_type": "markdown",
      "metadata": {
        "id": "g-wiJRbVmU9Z"
      },
      "source": [
        "#Запуск нескольких сетей"
      ]
    },
    {
      "cell_type": "code",
      "execution_count": 38,
      "metadata": {
        "id": "p0wyVUnwmfEO"
      },
      "outputs": [],
      "source": [
        "def evaluateModel(model, batchSize, epohs, valSplit):\n",
        "  model.compile(loss=\"categorical_crossentropy\", optimizer=\"adam\", metrics=[\"accuracy\"])\n",
        "\n",
        "  history = model.fit(x_train, \n",
        "                      y_train, \n",
        "                      batch_size=batchSize, \n",
        "                      epochs=epohs,\n",
        "                      validation_split=valSplit,\n",
        "                      verbose=0)\n",
        "  \n",
        "  currAcc = history.history['val_accuracy'][-1]\n",
        "  \n",
        "  return currAcc, history"
      ]
    },
    {
      "cell_type": "code",
      "execution_count": 39,
      "metadata": {
        "colab": {
          "base_uri": "https://localhost:8080/"
        },
        "id": "9Af_d8AUma5T",
        "outputId": "e54663e2-79e5-4239-ba51-24255c4b2717"
      },
      "outputs": [
        {
          "output_type": "stream",
          "name": "stdout",
          "text": [
            "[0.9270833134651184, 0.9388333559036255, 0.9461666941642761]\n"
          ]
        }
      ],
      "source": [
        "models = []\n",
        "\n",
        "model = Sequential()\n",
        "model.add(Dense(10, input_dim=784, activation=\"relu\"))\n",
        "model.add(Dense(10, activation=\"softmax\"))\n",
        "models.append(model)\n",
        "\n",
        "model = Sequential()\n",
        "model.add(Dense(20, input_dim=784, activation=\"relu\"))\n",
        "model.add(Dense(10, activation=\"softmax\"))\n",
        "models.append(model)\n",
        "\n",
        "model = Sequential()\n",
        "model.add(Dense(30, input_dim=784, activation=\"relu\"))\n",
        "model.add(Dense(10, activation=\"softmax\"))\n",
        "models.append(model)\n",
        "\n",
        "batchSisez = [100, 200, 300]\n",
        "\n",
        "acc = []\n",
        "hist = []\n",
        "for i in range(len(models)):\n",
        "  currAcc, currHistory = evaluateModel(models[i], batchSisez[i], 5, 0.2)\n",
        "  acc.append(currAcc)\n",
        "  hist.append(currHistory)\n",
        "  \n",
        "print(acc)\n"
      ]
    },
    {
      "cell_type": "code",
      "execution_count": 40,
      "metadata": {
        "colab": {
          "base_uri": "https://localhost:8080/"
        },
        "id": "TrWtkjjRorNq",
        "outputId": "6e7d35dd-2c84-4755-cb99-b2fd0f61df44"
      },
      "outputs": [
        {
          "output_type": "stream",
          "name": "stdout",
          "text": [
            "[0.8957499861717224, 0.918749988079071, 0.9236666560173035, 0.9260833263397217, 0.9270833134651184]\n"
          ]
        }
      ],
      "source": [
        "print(hist[0].history['val_accuracy'])"
      ]
    }
  ],
  "metadata": {
    "accelerator": "GPU",
    "colab": {
      "collapsed_sections": [],
      "name": "Проект ИИ Манов Михаил. Обучающая, проверочная и тестовая выборки",
      "provenance": [],
      "toc_visible": true
    },
    "kernelspec": {
      "display_name": "Python 3",
      "name": "python3"
    }
  },
  "nbformat": 4,
  "nbformat_minor": 0
}